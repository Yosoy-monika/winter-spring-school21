{
 "cells": [
  {
   "cell_type": "markdown",
   "id": "7e0f5cd1",
   "metadata": {},
   "source": [
    "# Turtle graphics\n",
    "\n",
    "Turtle graphics is a popular way for introducing programming to kids. It was part of the original Logo programming language developed by Wally Feurzig and Seymour Papert in 1966.\n",
    "\n",
    "Imagine a robotic turtle starting at (0, 0) in the x-y plane. After an import turtle, give it the command turtle.forward(15), and it moves (on-screen!) 15 pixels in the direction it is facing, drawing a line as it moves. Give it the command turtle.right(25), and it rotates in-place 25 degrees clockwise.\n",
    "\n",
    "## Basic Commands\n",
    "\n",
    "|Commands|Function|\n",
    "|:-------|:-------|\n",
    "|turtle.forward(x)|moves turtle forward by distance x|\n",
    "|turtle.right(x)|turns turtle right by x degree|\n",
    "|turtle.left(x)|turns turtle left by x degree|\n",
    "|turtle.color('x')|change the color of turtle to color x( like red, blue)|\n",
    "|turtle.pensize(x)|change the thickness of line drawn to x (x is number like 1, 2, 3 etc.)|\n",
    "|turtle.shape(x)  | shapes can be “arrow”, “turtle”, “circle”, “square”, “triangle”, “classic”.|"
   ]
  },
  {
   "cell_type": "code",
   "execution_count": null,
   "id": "6eab242a",
   "metadata": {},
   "outputs": [],
   "source": [
    "import turtle as sashi\n"
   ]
  },
  {
   "cell_type": "code",
   "execution_count": null,
   "id": "c617f992",
   "metadata": {},
   "outputs": [],
   "source": [
    "sashi.color('red')\n",
    "sashi.shape('turtle')\n",
    "sashi.pensize(2)"
   ]
  },
  {
   "cell_type": "code",
   "execution_count": null,
   "id": "390ea6c5",
   "metadata": {},
   "outputs": [],
   "source": [
    "sashi.forward(100)\n"
   ]
  },
  {
   "cell_type": "code",
   "execution_count": null,
   "id": "b0f5dcb3",
   "metadata": {},
   "outputs": [],
   "source": [
    "sashi.right(72)"
   ]
  },
  {
   "cell_type": "code",
   "execution_count": null,
   "id": "a6dea4b1",
   "metadata": {},
   "outputs": [],
   "source": [
    "sashi.bye()\n"
   ]
  },
  {
   "cell_type": "code",
   "execution_count": null,
   "id": "24929045",
   "metadata": {},
   "outputs": [],
   "source": []
  },
  {
   "cell_type": "code",
   "execution_count": null,
   "id": "1f38705f",
   "metadata": {},
   "outputs": [],
   "source": []
  },
  {
   "cell_type": "code",
   "execution_count": null,
   "id": "27ae0dda",
   "metadata": {},
   "outputs": [],
   "source": []
  },
  {
   "cell_type": "code",
   "execution_count": null,
   "id": "1c10ec66",
   "metadata": {},
   "outputs": [],
   "source": [
    "sashi.forward(350)\n",
    "sashi.left(144)\n",
    "sashi.forward(350)\n",
    "sashi.left(144)\n",
    "sashi.forward(350)\n",
    "sashi.left(144)\n",
    "sashi.forward(350)\n",
    "sashi.left(144)\n",
    "sashi.forward(350)\n",
    "sashi.left(144)"
   ]
  },
  {
   "cell_type": "code",
   "execution_count": null,
   "id": "3b85a95b",
   "metadata": {},
   "outputs": [],
   "source": [
    "sashi.reset()"
   ]
  },
  {
   "cell_type": "code",
   "execution_count": null,
   "id": "9c426032",
   "metadata": {},
   "outputs": [],
   "source": []
  },
  {
   "cell_type": "code",
   "execution_count": null,
   "id": "86f1202c",
   "metadata": {},
   "outputs": [],
   "source": []
  },
  {
   "cell_type": "code",
   "execution_count": null,
   "id": "42325add",
   "metadata": {},
   "outputs": [],
   "source": []
  },
  {
   "cell_type": "code",
   "execution_count": null,
   "id": "2d29f3a7",
   "metadata": {},
   "outputs": [],
   "source": []
  },
  {
   "cell_type": "code",
   "execution_count": null,
   "id": "c1f741db",
   "metadata": {},
   "outputs": [],
   "source": []
  },
  {
   "cell_type": "code",
   "execution_count": null,
   "id": "546794d0",
   "metadata": {},
   "outputs": [],
   "source": []
  },
  {
   "cell_type": "code",
   "execution_count": null,
   "id": "cde8814e",
   "metadata": {},
   "outputs": [],
   "source": []
  },
  {
   "cell_type": "code",
   "execution_count": null,
   "id": "8d379745",
   "metadata": {},
   "outputs": [],
   "source": []
  },
  {
   "cell_type": "code",
   "execution_count": null,
   "id": "abdff528",
   "metadata": {},
   "outputs": [],
   "source": []
  },
  {
   "cell_type": "code",
   "execution_count": null,
   "id": "f11b37e2",
   "metadata": {},
   "outputs": [],
   "source": []
  },
  {
   "cell_type": "code",
   "execution_count": null,
   "id": "dfc9295d",
   "metadata": {},
   "outputs": [],
   "source": []
  },
  {
   "cell_type": "code",
   "execution_count": null,
   "id": "7bd56273",
   "metadata": {},
   "outputs": [],
   "source": []
  },
  {
   "cell_type": "markdown",
   "id": "26b94a27",
   "metadata": {},
   "source": [
    "# Control Flow\n",
    "In the programs we have seen till now, there has always been a series of statements faithfully executed by Python in exact top-down order. What if you wanted to change the flow of how it works? For example, you want the program to take some decisions and do different things depending on different situations, such as printing 'Good Morning' or 'Good Evening' depending on the time of the day?\n",
    "\n",
    "This is achieved using control flow statements. There are three control flow statements in Python - if, for and while."
   ]
  },
  {
   "cell_type": "markdown",
   "id": "1472a07d",
   "metadata": {},
   "source": [
    "## For loop\n",
    "```for <var> in <iterable>:\n",
    "    <statement(s)>```"
   ]
  },
  {
   "cell_type": "code",
   "execution_count": null,
   "id": "d4cf546f",
   "metadata": {},
   "outputs": [],
   "source": []
  },
  {
   "cell_type": "code",
   "execution_count": null,
   "id": "c52f1033",
   "metadata": {},
   "outputs": [],
   "source": []
  },
  {
   "cell_type": "code",
   "execution_count": null,
   "id": "410b99f6",
   "metadata": {},
   "outputs": [],
   "source": []
  },
  {
   "cell_type": "code",
   "execution_count": null,
   "id": "aaa624cc",
   "metadata": {},
   "outputs": [],
   "source": []
  },
  {
   "cell_type": "code",
   "execution_count": null,
   "id": "197ef519",
   "metadata": {},
   "outputs": [],
   "source": [
    "import turtle\n",
    " \n",
    "star = turtle.Turtle()\n",
    "for i in range(100):\n",
    "    star.forward(350)\n",
    "    star.left(145)"
   ]
  },
  {
   "cell_type": "code",
   "execution_count": null,
   "id": "2f1527e5",
   "metadata": {},
   "outputs": [],
   "source": []
  },
  {
   "cell_type": "markdown",
   "id": "7259b560",
   "metadata": {},
   "source": [
    "# Functions:\n",
    "Functions are reusable pieces of programs. They allow you to give a name to a block of statements, allowing you to run that block using the specified name anywhere in your program and any number of times. This is known as calling the function. We have already used many built-in functions such as print, input, or range.\n",
    "We define function of using ```def``` keyword along with a ```identifier``` (i.e the name of the function),followed by a pair of parentheses which may enclose some names of variables, and by the final colon that ends the line. Next follows the intended block of statements that are part of this function. For example, \n",
    "```\n",
    "def [name of the funtion]():\n",
    "    (block of code)\n",
    "```"
   ]
  },
  {
   "cell_type": "code",
   "execution_count": null,
   "id": "a80e01d0",
   "metadata": {},
   "outputs": [],
   "source": []
  },
  {
   "cell_type": "code",
   "execution_count": null,
   "id": "059f3c12",
   "metadata": {},
   "outputs": [],
   "source": []
  },
  {
   "cell_type": "code",
   "execution_count": null,
   "id": "5cbee46e",
   "metadata": {},
   "outputs": [],
   "source": []
  },
  {
   "cell_type": "code",
   "execution_count": null,
   "id": "71769d59",
   "metadata": {},
   "outputs": [],
   "source": []
  },
  {
   "cell_type": "markdown",
   "id": "336b4552",
   "metadata": {},
   "source": [
    "# While loop\n",
    "while loop executes the code untill the given condition(s) is true. It is also called infinite loop.\n",
    "```while (condition(s)):\n",
    "    (block of code)```"
   ]
  },
  {
   "cell_type": "code",
   "execution_count": null,
   "id": "e2c57a46",
   "metadata": {},
   "outputs": [],
   "source": []
  },
  {
   "cell_type": "code",
   "execution_count": null,
   "id": "48618c0b",
   "metadata": {},
   "outputs": [],
   "source": []
  },
  {
   "cell_type": "code",
   "execution_count": null,
   "id": "01f0c375",
   "metadata": {},
   "outputs": [],
   "source": []
  },
  {
   "cell_type": "markdown",
   "id": "8980690c",
   "metadata": {},
   "source": [
    "# If, elif and else statement:\n",
    "The if statement is used to check a condition: if the condition is true, we run a block of statements (called the if-block), else we process another block of statements (called the else-block). The else clause is optional.\n",
    "```if (condition or conditions):\n",
    "       (block of code)\n",
    "else:\n",
    "       (block of code)```"
   ]
  },
  {
   "cell_type": "code",
   "execution_count": null,
   "id": "838ab04b",
   "metadata": {},
   "outputs": [],
   "source": []
  },
  {
   "cell_type": "code",
   "execution_count": null,
   "id": "1e48b448",
   "metadata": {},
   "outputs": [],
   "source": []
  },
  {
   "cell_type": "code",
   "execution_count": null,
   "id": "6f943ff1",
   "metadata": {},
   "outputs": [],
   "source": []
  },
  {
   "cell_type": "markdown",
   "id": "3dadef56",
   "metadata": {},
   "source": [
    "# Data Structure: Tuple and Dictionary"
   ]
  },
  {
   "cell_type": "markdown",
   "id": "75bf3d95",
   "metadata": {},
   "source": [
    "## 1) What is Tuple?  \n",
    "> Tuples are ordered collection of heterogenous data.  \n",
    "  We define tuples as  \n",
    "  ``` tuple_object = (data1, data2, data3, .... etc)```"
   ]
  },
  {
   "cell_type": "markdown",
   "id": "faaab964",
   "metadata": {},
   "source": [
    "### Lets create a tuple  \n",
    "There are two ways to create tuple:  \n",
    "1) by creating a sequence of comma seperated datas enclose by braces '()'  \n",
    "2) using tuple function"
   ]
  },
  {
   "cell_type": "code",
   "execution_count": null,
   "id": "e1fdb44f",
   "metadata": {},
   "outputs": [],
   "source": [
    "\n",
    "a = (1,)"
   ]
  },
  {
   "cell_type": "code",
   "execution_count": null,
   "id": "f29d3703",
   "metadata": {},
   "outputs": [],
   "source": []
  },
  {
   "cell_type": "markdown",
   "id": "c53e128a",
   "metadata": {},
   "source": [
    "### Packing and Unpacking of tuple"
   ]
  },
  {
   "cell_type": "code",
   "execution_count": 1,
   "id": "24b33cda",
   "metadata": {},
   "outputs": [],
   "source": [
    "coordinate =  100,200  # This is called packing\n",
    "print(coordintate)"
   ]
  },
  {
   "cell_type": "code",
   "execution_count": 2,
   "id": "ed0e055f",
   "metadata": {},
   "outputs": [
    {
     "name": "stdout",
     "output_type": "stream",
     "text": [
      "100\n",
      "200\n"
     ]
    }
   ],
   "source": [
    "x,y = coordinate  # This is called unpacking\n",
    "print(x)\n",
    "print(y)"
   ]
  },
  {
   "cell_type": "markdown",
   "id": "97667a12",
   "metadata": {},
   "source": [
    "### Accesing the items of tuple and slicing\n"
   ]
  },
  {
   "cell_type": "code",
   "execution_count": 3,
   "id": "87a82159",
   "metadata": {},
   "outputs": [],
   "source": [
    "a = (1,2,3,4)"
   ]
  },
  {
   "cell_type": "code",
   "execution_count": 4,
   "id": "64bb0777",
   "metadata": {},
   "outputs": [
    {
     "data": {
      "text/plain": [
       "1"
      ]
     },
     "execution_count": 4,
     "metadata": {},
     "output_type": "execute_result"
    }
   ],
   "source": [
    "a[0]"
   ]
  },
  {
   "cell_type": "code",
   "execution_count": null,
   "id": "3543d4b5",
   "metadata": {},
   "outputs": [],
   "source": []
  },
  {
   "cell_type": "markdown",
   "id": "a2da73d2",
   "metadata": {},
   "source": [
    "### Modify nested items of a tuple"
   ]
  },
  {
   "cell_type": "code",
   "execution_count": null,
   "id": "c94d4a4a",
   "metadata": {},
   "outputs": [],
   "source": []
  },
  {
   "cell_type": "markdown",
   "id": "55fb3d8d",
   "metadata": {},
   "source": [
    "## 1) What is dictionary?  \n",
    "> Dictionaries are unordered collections of unique values stored in (Key-Value) pairs.  \n",
    ">> For example:  \n",
    "```     dictionary  =  {'name':'sashi nepal','address':'dhumbojhi','house no':98481, 'ward':1}```\n",
    "$$\\uparrow\\,\\,\\,\\,\\,\\,\\,\\,\\,\\,\\,\\,\\,\\,\\,\\,\\,\\,\\,\\,\\,\\uparrow$$\n",
    "$$key\\,\\,\\,\\,\\,\\,\\,\\,\\,\\,\\,\\,\\,\\,\\,\\,\\,\\,\\,\\,\\,value$$  \n",
    "\n",
    "#### Properties: 1) Unordered  2) Unique  3) Mutable  \n",
    "\n",
    "### Lets create a dictionary:  \n",
    "1) by using curly braces '{}' enclosing comma seperated key-value pairs.  Here, key and value is seperated by a colon':'  \n",
    "2) by using dict function by passing comma-seperated key:value pairs as argument."
   ]
  },
  {
   "cell_type": "code",
   "execution_count": null,
   "id": "e9a70e91",
   "metadata": {},
   "outputs": [],
   "source": []
  },
  {
   "cell_type": "code",
   "execution_count": null,
   "id": "b6ce2762",
   "metadata": {},
   "outputs": [],
   "source": []
  },
  {
   "cell_type": "code",
   "execution_count": null,
   "id": "d36ed8c6",
   "metadata": {},
   "outputs": [],
   "source": []
  },
  {
   "cell_type": "markdown",
   "id": "94066e31",
   "metadata": {},
   "source": [
    "## Accesing items of dictionary:\n",
    "You can same way as for list and tuple to access the item of dictionary.  Only difference here is that you pass the key instead of index to get a value. \n"
   ]
  },
  {
   "cell_type": "code",
   "execution_count": null,
   "id": "77b54316",
   "metadata": {},
   "outputs": [],
   "source": []
  },
  {
   "cell_type": "code",
   "execution_count": null,
   "id": "998a4972",
   "metadata": {},
   "outputs": [],
   "source": []
  },
  {
   "cell_type": "markdown",
   "id": "d11b75ae",
   "metadata": {},
   "source": [
    "## Updating and Adding the value of dictionary  \n",
    "1) Using update() method in which you give key:value pair that you want to update  \n",
    "2) Using Key-Value assignment."
   ]
  },
  {
   "cell_type": "code",
   "execution_count": null,
   "id": "4010ea78",
   "metadata": {},
   "outputs": [],
   "source": []
  },
  {
   "cell_type": "code",
   "execution_count": null,
   "id": "ef19d34a",
   "metadata": {},
   "outputs": [],
   "source": []
  },
  {
   "cell_type": "code",
   "execution_count": null,
   "id": "0bef5222",
   "metadata": {},
   "outputs": [],
   "source": []
  },
  {
   "cell_type": "markdown",
   "id": "c961f110",
   "metadata": {},
   "source": [
    "## Get all the keys and values of a dictionary:  \n",
    "You can use  \n",
    "1) keys() method to get all the keys  \n",
    "2) values() method to get all the values  \n",
    "3) items() method to get all the key:value pairs in dictionary. Here, each item will be inside a tuple."
   ]
  },
  {
   "cell_type": "code",
   "execution_count": null,
   "id": "6b3399d9",
   "metadata": {},
   "outputs": [],
   "source": []
  },
  {
   "cell_type": "code",
   "execution_count": null,
   "id": "f9f7b0c3",
   "metadata": {},
   "outputs": [],
   "source": []
  },
  {
   "cell_type": "code",
   "execution_count": null,
   "id": "da41181e",
   "metadata": {},
   "outputs": [],
   "source": []
  },
  {
   "cell_type": "markdown",
   "id": "8b50bd64",
   "metadata": {},
   "source": [
    "### Removing items in dictionary:\n",
    "\n",
    "|Method\t|Description|\n",
    "|:--------|:----------|\n",
    "|pop(key[,d])\t|Return and removes the item with the key and return its value. If the key is not found, it raises KeyError.|\n",
    "|popitem()\t|Return and removes the last inserted item from the dictionary. If the dictionary is empty, it raises KeyError.|\n",
    "|del key\t|The del keyword will delete the item with the key that is passed|\n",
    "|clear()\t|Removes all items from the dictionary. Empty the dictionary|\n",
    "|del dict_name\t|Delete the entire dictionary|"
   ]
  },
  {
   "cell_type": "code",
   "execution_count": null,
   "id": "b9b24f50",
   "metadata": {},
   "outputs": [],
   "source": []
  },
  {
   "cell_type": "code",
   "execution_count": null,
   "id": "34d1e5a8",
   "metadata": {},
   "outputs": [],
   "source": []
  },
  {
   "cell_type": "code",
   "execution_count": null,
   "id": "5d560574",
   "metadata": {},
   "outputs": [],
   "source": []
  }
 ],
 "metadata": {
  "kernelspec": {
   "display_name": "Python 3",
   "language": "python",
   "name": "python3"
  },
  "language_info": {
   "codemirror_mode": {
    "name": "ipython",
    "version": 3
   },
   "file_extension": ".py",
   "mimetype": "text/x-python",
   "name": "python",
   "nbconvert_exporter": "python",
   "pygments_lexer": "ipython3",
   "version": "3.8.8"
  }
 },
 "nbformat": 4,
 "nbformat_minor": 5
}
