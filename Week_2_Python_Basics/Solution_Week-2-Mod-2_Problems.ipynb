{
 "cells": [
  {
   "cell_type": "markdown",
   "metadata": {},
   "source": [
    "## <1> Draw a rectangle with lenght=200 and width=100.\n"
   ]
  },
  {
   "cell_type": "code",
   "execution_count": null,
   "metadata": {},
   "outputs": [],
   "source": [
    "#importing the turtle module\n",
    "import turtle\n",
    "#changing some default properties of turtle displayed on screen\n",
    "turtle.color('blue')\n",
    "turtle.shape('turtle')\n",
    "turtle.pensize('2')\n",
    "#now to Draw a rectange we need to move turtle in following way\n",
    "turtle.forward(200) #moves the turtle by 250 unit\n",
    "turtle.left(90)     #turns the turtle left by 90 degree.\n",
    "turtle.forward(100)\n",
    "turtle.left(90)\n",
    "turtle.forward(200)\n",
    "turtle.left(90)\n",
    "turtle.forward(100)\n",
    "turtle.left(90)\n",
    "turtle.hideturtle() # hides the turtle from screen"
   ]
  },
  {
   "cell_type": "code",
   "execution_count": null,
   "metadata": {},
   "outputs": [],
   "source": [
    "turtle.bye() # use to close the screen"
   ]
  },
  {
   "cell_type": "code",
   "execution_count": null,
   "metadata": {},
   "outputs": [],
   "source": [
    "turtle.showturtle() # unhide the turtle on screen "
   ]
  },
  {
   "cell_type": "markdown",
   "metadata": {},
   "source": [
    "## <2> Write your initial with turtle.\n"
   ]
  },
  {
   "cell_type": "code",
   "execution_count": null,
   "metadata": {},
   "outputs": [],
   "source": [
    "# for this I will define a function that will draw the letter S, which is my intial.\n",
    "def drawS(color): # to use this fuction you need to import turtle first\n",
    "    turtle.color(color)\n",
    "    turtle.pensize(2)\n",
    "    turtle.forward(150)\n",
    "    turtle.left(90)\n",
    "    turtle.forward(90)\n",
    "    turtle.left(90)\n",
    "    turtle.forward(150)\n",
    "    turtle.right(90)\n",
    "    turtle.forward(90)\n",
    "    turtle.right(90)\n",
    "    turtle.forward(150)\n",
    "    turtle.penup()\n",
    "    turtle.goto(0,0)\n",
    "    turtle.pendown()\n",
    "    \n",
    "drawS('red')#Calling the function drawS which takes the name of color of line as the argument."
   ]
  },
  {
   "cell_type": "code",
   "execution_count": null,
   "metadata": {},
   "outputs": [],
   "source": [
    "turtle.reset()\n"
   ]
  },
  {
   "cell_type": "code",
   "execution_count": null,
   "metadata": {},
   "outputs": [],
   "source": []
  },
  {
   "cell_type": "markdown",
   "metadata": {},
   "source": [
    "## <3> Write your first name with turtle with each letter of different colors. Also draw a rectangle around your name. Screenshot your name you just wrote using turtle and post it in slack channel."
   ]
  },
  {
   "cell_type": "code",
   "execution_count": 4,
   "metadata": {},
   "outputs": [],
   "source": [
    "import turtle\n",
    "import math\n",
    "# to use these fuction you need to import turtle firs\n",
    "def drawS(color): # draws a letter S\n",
    "    turtle.color(color)\n",
    "    turtle.pensize(12)\n",
    "    turtle.pendown()\n",
    "    turtle.forward(100)\n",
    "    turtle.left(90)\n",
    "    turtle.forward(90)\n",
    "    turtle.left(90)\n",
    "    turtle.forward(100)\n",
    "    turtle.right(90)\n",
    "    turtle.forward(90)\n",
    "    turtle.right(90)\n",
    "    turtle.forward(100)\n",
    "    turtle.penup()\n",
    "    turtle.goto(turtle.xcor(),turtle.ycor()-turtle.ycor())\n",
    "    turtle.setheading(0)\n",
    "    \n",
    "def drawA(color,angle): # draws a letter A\n",
    "    turtle.color(color)\n",
    "    turtle.pensize(12)\n",
    "    turtle.pendown()\n",
    "    turtle.left(angle)\n",
    "    hypot = 180/math.sin(math.radians(angle)) # lenght of arm\n",
    "    turtle.forward(hypot)\n",
    "    turtle.right(angle*2)\n",
    "    turtle.forward(hypot/2)\n",
    "    turtle.right(180-angle)\n",
    "    mid_line = (90/math.tan(math.radians(angle)))*2\n",
    "    turtle.forward(mid_line)\n",
    "    turtle.right(180)\n",
    "    turtle.forward(mid_line)\n",
    "    turtle.right(angle)\n",
    "    turtle.forward(hypot/2)\n",
    "    turtle.penup()\n",
    "    turtle.goto(turtle.xcor(),turtle.ycor()-turtle.ycor())\n",
    "    turtle.setheading(0)\n",
    "    \n",
    "def drawH(color): # draws a letter H\n",
    "    turtle.color(color)\n",
    "    turtle.pensize(12)\n",
    "    turtle.pendown()\n",
    "    turtle.left(90)\n",
    "    turtle.forward(180)\n",
    "    turtle.forward(-90)\n",
    "    turtle.right(90)\n",
    "    turtle.forward(90)\n",
    "    turtle.left(90)\n",
    "    turtle.forward(90)\n",
    "    turtle.forward(-180)\n",
    "    turtle.penup()\n",
    "    turtle.goto(turtle.xcor(),turtle.ycor()-turtle.ycor())\n",
    "    turtle.setheading(0)\n",
    "\n",
    "def drawI(color): # draws a letter I\n",
    "    turtle.color(color)\n",
    "    turtle.pensize(12)\n",
    "    turtle.pendown()\n",
    "    turtle.forward(90)\n",
    "    turtle.forward(-45)\n",
    "    turtle.left(90)\n",
    "    turtle.forward(180)\n",
    "    turtle.left(90)\n",
    "    turtle.forward(45)\n",
    "    turtle.forward(-90)\n",
    "    turtle.penup()\n",
    "    turtle.goto(turtle.xcor(),turtle.ycor()-turtle.ycor())\n",
    "    turtle.setheading(0)\n",
    "    \n",
    "def drawRec(color,length,breadth):# draws a rectangle\n",
    "    turtle.color(color)\n",
    "    turtle.pensize(12)\n",
    "    turtle.goto(-550,-50)\n",
    "    turtle.pendown()\n",
    "    turtle.forward(length)\n",
    "    turtle.left(90)\n",
    "    turtle.forward(breadth)\n",
    "    turtle.left(90)\n",
    "    turtle.forward(length)\n",
    "    turtle.left(90)\n",
    "    turtle.forward(breadth)"
   ]
  },
  {
   "cell_type": "code",
   "execution_count": null,
   "metadata": {},
   "outputs": [],
   "source": [
    "turtle.reset()"
   ]
  },
  {
   "cell_type": "code",
   "execution_count": 5,
   "metadata": {},
   "outputs": [],
   "source": [
    "turtle.penup()\n",
    "turtle.goto(-500,0)\n",
    "drawS('red')\n",
    "turtle.goto(turtle.xcor()+50,0)\n",
    "drawA('blue',70)\n",
    "turtle.goto(turtle.xcor()+50,0)\n",
    "drawS('red')\n",
    "turtle.goto(turtle.xcor()+50,0)\n",
    "drawH('green')\n",
    "turtle.goto(turtle.xcor()+50,0)\n",
    "drawI('yellow')\n",
    "drawRec('black',820,280)"
   ]
  },
  {
   "cell_type": "code",
   "execution_count": 6,
   "metadata": {},
   "outputs": [],
   "source": [
    "turtle.bye()"
   ]
  },
  {
   "cell_type": "markdown",
   "metadata": {},
   "source": [
    "## <4> Write a code to draw a polygon with n (n>3) sides using turlte."
   ]
  },
  {
   "cell_type": "code",
   "execution_count": null,
   "metadata": {},
   "outputs": [],
   "source": [
    "import turtle\n",
    "import sys\n",
    "turtle.reset()\n",
    "turtle.penup()\n",
    "turtle.goto(0,-300)\n",
    "turtle.color('red')\n",
    "turtle.pensize(4)\n",
    "turtle.pendown()\n",
    "n = 8\n",
    "length = 200\n",
    "for steps in range(n):\n",
    "    turtle.forward(length)\n",
    "    turtle.left(360/n)"
   ]
  },
  {
   "cell_type": "code",
   "execution_count": null,
   "metadata": {},
   "outputs": [],
   "source": []
  },
  {
   "cell_type": "markdown",
   "metadata": {},
   "source": [
    "## <5> Write a function named polygon that takes n (number of sides) as argument and draw the polygon with n sides."
   ]
  },
  {
   "cell_type": "code",
   "execution_count": null,
   "metadata": {},
   "outputs": [],
   "source": [
    "import turtle\n",
    "import sys\n",
    "def drawPolygon(num_side,color,length):\n",
    "    if int(num_side) <3:\n",
    "        sys.exit('A Polygon cannot have sides less than 3.')\n",
    "    num_side = int(num_side)\n",
    "    angle = 360/num_side\n",
    "    turtle.pendown()\n",
    "    turtle.color(color)\n",
    "    turtle.pensize(4)\n",
    "    for steps in range(num_side):\n",
    "        turtle.forward(length)\n",
    "        turtle.left(angle)"
   ]
  },
  {
   "cell_type": "code",
   "execution_count": null,
   "metadata": {},
   "outputs": [],
   "source": [
    "turtle.reset() # before calling the function I want to reset the turtle\n",
    "turtle.penup() # lifting pen of turtle so that turtle cannot draw when it moves\n",
    "turtle.goto(0,-300) # changing position of turtle\n",
    "drawPolygon(9,'red',200) #calling the funtion drawPolygon"
   ]
  },
  {
   "cell_type": "code",
   "execution_count": null,
   "metadata": {},
   "outputs": [],
   "source": []
  },
  {
   "cell_type": "markdown",
   "metadata": {},
   "source": [
    "## <6>Print First 10 natural numbers using while loop and for loop."
   ]
  },
  {
   "cell_type": "code",
   "execution_count": 1,
   "metadata": {},
   "outputs": [
    {
     "name": "stdout",
     "output_type": "stream",
     "text": [
      "Print first 10 natural number using for loop\n",
      "1\n",
      "2\n",
      "3\n",
      "4\n",
      "5\n",
      "6\n",
      "7\n",
      "8\n",
      "9\n",
      "10\n",
      "Print first 10 natural number using while loop\n",
      "1\n",
      "2\n",
      "3\n",
      "4\n",
      "5\n",
      "6\n",
      "7\n",
      "8\n",
      "9\n",
      "10\n"
     ]
    }
   ],
   "source": [
    "#First  I will use for loop\n",
    "print('Print first 10 natural number using for loop')\n",
    "for i in range(10):\n",
    "    print(i+1) # because natural number starts with 1\n",
    "print('Print first 10 natural number using while loop')\n",
    "\n",
    "number = 1\n",
    "while number <11:\n",
    "    print(number)\n",
    "    number = number + 1"
   ]
  },
  {
   "cell_type": "markdown",
   "metadata": {},
   "source": [
    "## <7>Print the following pattern using for loop.\n",
    "\n",
    "```1 \n",
    "1 2 \n",
    "1 2 3 \n",
    "1 2 3 4 \n",
    "1 2 3 4 5\n",
    "1 2 3 4 5 6\n",
    "1 2 3 4 5 6 7```"
   ]
  },
  {
   "cell_type": "code",
   "execution_count": 2,
   "metadata": {},
   "outputs": [
    {
     "name": "stdout",
     "output_type": "stream",
     "text": [
      "1 \n",
      "\n",
      "1 2 \n",
      "\n",
      "1 2 3 \n",
      "\n",
      "1 2 3 4 \n",
      "\n",
      "1 2 3 4 5 \n",
      "\n",
      "1 2 3 4 5 6 \n",
      "\n",
      "1 2 3 4 5 6 7 \n",
      "\n"
     ]
    }
   ],
   "source": [
    "for i in range(1,8):\n",
    "    for j in range(i):\n",
    "        print(j+1, end=' ')\n",
    "    print('\\n')"
   ]
  },
  {
   "cell_type": "markdown",
   "metadata": {},
   "source": [
    "## <8>Accept number from user and calculate the sum of all number from 1 to a given number."
   ]
  },
  {
   "cell_type": "code",
   "execution_count": 3,
   "metadata": {},
   "outputs": [
    {
     "name": "stdout",
     "output_type": "stream",
     "text": [
      "This program finds the sum from 1 to n. Please enter the value of n: 100\n",
      "Sum of all numbers from 1 to 100 is 5050\n"
     ]
    }
   ],
   "source": [
    "endnumber = input('This program finds the sum from 1 to n. Please enter the value of n: ')\n",
    "endnumber = int(endnumber)\n",
    "sum_num = 0\n",
    "for i in range(endnumber+1):\n",
    "    sum_num = sum_num + i \n",
    "print('Sum of all numbers from 1 to {0} is {1}'.format(endnumber,sum_num) )"
   ]
  },
  {
   "cell_type": "markdown",
   "metadata": {},
   "source": [
    "## <9>Print multiplication table of a given number."
   ]
  },
  {
   "cell_type": "code",
   "execution_count": 14,
   "metadata": {},
   "outputs": [
    {
     "name": "stdout",
     "output_type": "stream",
     "text": [
      "This program prints the multiplication table of number n.\n",
      " Please enter the value of n: 5\n",
      "  5  x   1  =       5\n",
      "  5  x   2  =      10\n",
      "  5  x   3  =      15\n",
      "  5  x   4  =      20\n",
      "  5  x   5  =      25\n",
      "  5  x   6  =      30\n",
      "  5  x   7  =      35\n",
      "  5  x   8  =      40\n",
      "  5  x   9  =      45\n",
      "  5  x  10  =      50\n"
     ]
    }
   ],
   "source": [
    "number = input('This program prints the multiplication table of number n.\\n Please enter the value of n: ')\n",
    "number = int(number)\n",
    "for i in range(10):\n",
    "    print('{0:3d}  x  {1:2d}  =  {2:6d}'.format(number,i+1,number*(i+1)))"
   ]
  },
  {
   "cell_type": "markdown",
   "metadata": {},
   "source": [
    "## <10> Given a list, iterate it, and display numbers divisible by five, and if you find a number greater than 150, stop the loop iteration\n",
    "```number_list = [12, 15, 32, 42, 55, 75, 122, 132, 150, 180, 200]```"
   ]
  },
  {
   "cell_type": "code",
   "execution_count": 16,
   "metadata": {},
   "outputs": [
    {
     "name": "stdout",
     "output_type": "stream",
     "text": [
      "15\n",
      "55\n",
      "75\n",
      "150\n"
     ]
    }
   ],
   "source": [
    "number_list = [12, 15, 32, 42, 55, 75, 122, 132, 150, 180, 200]\n",
    "for item in number_list:\n",
    "    if item > 150:\n",
    "        break\n",
    "    if item%5 ==0:\n",
    "        print(item)"
   ]
  },
  {
   "cell_type": "markdown",
   "metadata": {},
   "source": [
    "## <11> Given a list, iterate it, and display numbers divisible by the number you ask from user.\n",
    "\n",
    "```number_list = [[12, 15, 32], [42, 55, 75], [122, 132, 150, 180, 200]]```"
   ]
  },
  {
   "cell_type": "code",
   "execution_count": 17,
   "metadata": {},
   "outputs": [
    {
     "name": "stdout",
     "output_type": "stream",
     "text": [
      "number_list = [[12, 15, 32], [42, 55, 75], [122, 132, 150, 180, 200]]\n",
      "find the number in the above list that is divisible by :5\n",
      "15\n",
      "55\n",
      "75\n",
      "150\n",
      "180\n",
      "200\n"
     ]
    }
   ],
   "source": [
    "number_list = [[12, 15, 32], [42, 55, 75], [122, 132, 150, 180, 200]]\n",
    "print('number_list = [[12, 15, 32], [42, 55, 75], [122, 132, 150, 180, 200]]')\n",
    "number = input('find the number in the above list that is divisible by :')\n",
    "for item in number_list:\n",
    "    for i in item:\n",
    "        if i%int(number)==0:\n",
    "            print(i)"
   ]
  },
  {
   "cell_type": "markdown",
   "metadata": {},
   "source": [
    "## <12> Ask user for a whole number and  count the total number of digits in a number. And also don't forget to print the result."
   ]
  },
  {
   "cell_type": "code",
   "execution_count": 20,
   "metadata": {},
   "outputs": [
    {
     "name": "stdout",
     "output_type": "stream",
     "text": [
      "Please input the number : 464679663445\n",
      "The number of digit in 464679663445 is 12\n"
     ]
    }
   ],
   "source": [
    "number = input('Please input the number : ')\n",
    "number = str(number)\n",
    "count = 0\n",
    "for i in number:\n",
    "    count = count + 1\n",
    "print(f'The number of digit in {number} is {count}')"
   ]
  },
  {
   "cell_type": "markdown",
   "metadata": {},
   "source": [
    "## <13> Reverse the following list using for loop.\n",
    "```num_list = [0,1,2,3,4,5,6,7,8,9]```  \n",
    "Your resultant list should look like [9,8,7,6,5,4,3,2,1,0].  "
   ]
  },
  {
   "cell_type": "code",
   "execution_count": 29,
   "metadata": {},
   "outputs": [
    {
     "name": "stdout",
     "output_type": "stream",
     "text": [
      "num_list = [0,1,2,3,4,5,6,7,8,9]\n"
     ]
    },
    {
     "data": {
      "text/plain": [
       "[9, 8, 7, 6, 5, 4, 3, 2, 1, 0]"
      ]
     },
     "execution_count": 29,
     "metadata": {},
     "output_type": "execute_result"
    }
   ],
   "source": [
    "print('num_list = [0,1,2,3,4,5,6,7,8,9]')\n",
    "num_list = [0,1,2,3,4,5,6,7,8,9]\n",
    "rev_list = []\n",
    "for i in range(len(num_list)):\n",
    "    number = num_list[-1*(i+1)]\n",
    "    rev_list.append(number)\n",
    "rev_list"
   ]
  },
  {
   "cell_type": "markdown",
   "metadata": {},
   "source": [
    "## <14> For immediate above question write a function named reverse that takes a list as input parameter and then returns the reversed list. "
   ]
  },
  {
   "cell_type": "code",
   "execution_count": 33,
   "metadata": {},
   "outputs": [],
   "source": [
    "def reverseList(lst): # defining the fuction that reverse the list\n",
    "    print(f'input list is {lst}')\n",
    "    rev_list = []\n",
    "    for i in range(len(lst)):\n",
    "        number = lst[-1*(i+1)]\n",
    "        rev_list.append(number)\n",
    "    return rev_list"
   ]
  },
  {
   "cell_type": "code",
   "execution_count": 35,
   "metadata": {},
   "outputs": [
    {
     "name": "stdout",
     "output_type": "stream",
     "text": [
      "input list = [0, 1, 2, 3, 4, 5, 6, 7, 8, 9]\n",
      "The reversed list is [9, 8, 7, 6, 5, 4, 3, 2, 1, 0]\n"
     ]
    }
   ],
   "source": [
    "num_list = [0,1,2,3,4,5,6,7,8,9]\n",
    "reversed_list = reverseList(num_list)\n",
    "print(f'The reversed list is {reversed_list}')"
   ]
  },
  {
   "cell_type": "code",
   "execution_count": null,
   "metadata": {},
   "outputs": [],
   "source": []
  }
 ],
 "metadata": {
  "kernelspec": {
   "display_name": "Python 3",
   "language": "python",
   "name": "python3"
  },
  "language_info": {
   "codemirror_mode": {
    "name": "ipython",
    "version": 3
   },
   "file_extension": ".py",
   "mimetype": "text/x-python",
   "name": "python",
   "nbconvert_exporter": "python",
   "pygments_lexer": "ipython3",
   "version": "3.8.8"
  }
 },
 "nbformat": 4,
 "nbformat_minor": 4
}
