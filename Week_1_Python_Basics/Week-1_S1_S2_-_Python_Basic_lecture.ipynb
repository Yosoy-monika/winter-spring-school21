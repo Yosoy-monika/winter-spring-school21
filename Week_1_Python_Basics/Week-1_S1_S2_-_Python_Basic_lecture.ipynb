{
 "cells": [
  {
   "cell_type": "markdown",
   "metadata": {},
   "source": [
    "# Introduction to Python: Module-1"
   ]
  },
  {
   "cell_type": "markdown",
   "metadata": {},
   "source": [
    "# What is Python?\n",
    "Python is a popular object oriented programming language. Almost everything in Python is an object, with its properties and methods.. It was created by Guido van Rossum, and released in 1991.\n",
    "\n",
    "### It is used for:\n",
    "1. web development\n",
    "2. software development,\n",
    "3. solving complex scientific problems\n",
    "4. system scripting.\n",
    "\n",
    "### What can Python do?\n",
    "1. Python can be used on a server to create web applications.\n",
    "2. Python can be used alongside software to create workflows.\n",
    "3. Python can connect to database systems. It can also read and modify files.\n",
    "4. Python can be used to handle big data and perform complex mathematics.\n",
    "5. Python can be used for rapid prototyping, or for production-ready software development.\n",
    "\n",
    "### Python Syntax:\n",
    "1. Python was designed for readability, and has some similarities to the English language with influence from mathematics.\n",
    "2. Python uses new lines to complete a command, as opposed to other programming languages which often use semicolons or parentheses.\n",
    "3. Python relies on indentation, using whitespace, to define scope; such as the scope of loops, functions and classes. Other programming languages often use curly-brackets for this purpose.\n",
    "4. Sometimes we need to make distinction between a physical line and a logical line of code. You can have multiple logical lines on one physical line or vice versa.\n"
   ]
  },
  {
   "cell_type": "code",
   "execution_count": null,
   "metadata": {},
   "outputs": [],
   "source": [
    "# printing \n",
    "print('Hellow world')\n"
   ]
  },
  {
   "cell_type": "code",
   "execution_count": null,
   "metadata": {},
   "outputs": [],
   "source": [
    "\"sashi\""
   ]
  },
  {
   "cell_type": "code",
   "execution_count": null,
   "metadata": {},
   "outputs": [],
   "source": [
    "number_one = 2\n"
   ]
  },
  {
   "cell_type": "code",
   "execution_count": null,
   "metadata": {},
   "outputs": [],
   "source": [
    "name = 'Sashi'"
   ]
  },
  {
   "cell_type": "code",
   "execution_count": null,
   "metadata": {},
   "outputs": [],
   "source": [
    "dir(2)"
   ]
  },
  {
   "cell_type": "markdown",
   "metadata": {},
   "source": [
    "# Variables and Built-in Data Types\n",
    "\n",
    "Variables can store data of different types, and different types can do different things.\n",
    "\n",
    "*Python has the following data types built-in by default, in these categories:\n",
    "\n",
    "1. Text Type:\tstr\n",
    "2. Numeric Types:\tint, float, complex\n",
    "3. Boolean Type: bool [True, False]\n",
    "\n",
    "Some times you might want to convert the data type from one type to another. This can be acheived by using constructor functions: \n",
    "1. int()\n",
    "2. float()\n",
    "3. str()"
   ]
  },
  {
   "cell_type": "code",
   "execution_count": null,
   "metadata": {},
   "outputs": [],
   "source": [
    "30 # it is interger\n",
    "3.14159 # a floating point number\n",
    "5.1e10 # scientific notation\n",
    "2.5 + 5.3j # a complex number\n",
    "True # boolean literal\n",
    "False # another boolean literal"
   ]
  },
  {
   "cell_type": "code",
   "execution_count": null,
   "metadata": {},
   "outputs": [],
   "source": [
    "2**2"
   ]
  },
  {
   "cell_type": "code",
   "execution_count": null,
   "metadata": {},
   "outputs": [],
   "source": [
    "number = 4"
   ]
  },
  {
   "cell_type": "code",
   "execution_count": null,
   "metadata": {},
   "outputs": [],
   "source": [
    "type(number)"
   ]
  },
  {
   "cell_type": "code",
   "execution_count": null,
   "metadata": {},
   "outputs": [],
   "source": [
    "another_number = 4.5"
   ]
  },
  {
   "cell_type": "code",
   "execution_count": null,
   "metadata": {},
   "outputs": [],
   "source": [
    "type(another_number)"
   ]
  },
  {
   "cell_type": "code",
   "execution_count": null,
   "metadata": {},
   "outputs": [],
   "source": [
    "qwer = 4/5"
   ]
  },
  {
   "cell_type": "code",
   "execution_count": null,
   "metadata": {},
   "outputs": [],
   "source": [
    "type(qwer)"
   ]
  },
  {
   "cell_type": "code",
   "execution_count": null,
   "metadata": {},
   "outputs": [],
   "source": [
    "number = int(4.2)"
   ]
  },
  {
   "cell_type": "code",
   "execution_count": null,
   "metadata": {},
   "outputs": [],
   "source": [
    "number = float(5)"
   ]
  },
  {
   "cell_type": "code",
   "execution_count": null,
   "metadata": {},
   "outputs": [],
   "source": [
    "number"
   ]
  },
  {
   "cell_type": "code",
   "execution_count": null,
   "metadata": {},
   "outputs": [],
   "source": [
    "number = float('123')"
   ]
  },
  {
   "cell_type": "code",
   "execution_count": null,
   "metadata": {},
   "outputs": [],
   "source": [
    "number"
   ]
  },
  {
   "cell_type": "markdown",
   "metadata": {},
   "source": [
    "# Importing modules in python\n",
    "What is a Module?\n",
    "\n",
    "Consider a module to be the same as a code library.\n",
    "A file containing a set of functions you want to include in your application. We can easily import modules in python using 'import' statement."
   ]
  },
  {
   "cell_type": "code",
   "execution_count": null,
   "metadata": {},
   "outputs": [],
   "source": [
    "import math"
   ]
  },
  {
   "cell_type": "code",
   "execution_count": null,
   "metadata": {},
   "outputs": [],
   "source": [
    "math."
   ]
  },
  {
   "cell_type": "code",
   "execution_count": null,
   "metadata": {},
   "outputs": [],
   "source": []
  },
  {
   "cell_type": "code",
   "execution_count": null,
   "metadata": {},
   "outputs": [],
   "source": [
    "import numpy\n"
   ]
  },
  {
   "cell_type": "code",
   "execution_count": null,
   "metadata": {},
   "outputs": [],
   "source": [
    "numpy."
   ]
  },
  {
   "cell_type": "markdown",
   "metadata": {},
   "source": [
    "# Operators in Python\n",
    "Python Arithmetic Operators\n",
    "Arithmetic operators are used with numeric values to perform common mathematical operations:\n",
    "\n",
    "|Operator       |Name       |Example     |\t\n",
    "|:--------|:----|:-------|\n",
    "|+ |Addition   |   x + y|\t\n",
    "|- |Subtraction|   x - y|\t\n",
    "|* |Multiplication|x * y|\t\n",
    "|/ |Division\t   |  x / y|\t\n",
    "|% |Modulus\t       |x % y\t|\n",
    "|**|Exponentiation | x ** y\t|\n",
    "|//|Floor division | x // y\t|\n",
    "\n",
    "\n",
    "|Operator|\tExample|\tSame As|\n",
    "|:--------|:---------|:-----------|\n",
    "|=\t|x = 5\t|x = 5|\t\n",
    "|+=\t|x += 3\t|x = x + 3|\t\n",
    "|-=\t|x -= 3\t|x = x - 3|\t\n",
    "|*=\t|x *= 3\t|x = x * 3|\t\n",
    "|**=|\tx **= 3|\tx = x ** 3|\t\n"
   ]
  },
  {
   "cell_type": "code",
   "execution_count": null,
   "metadata": {},
   "outputs": [],
   "source": [
    "5+6\n"
   ]
  },
  {
   "cell_type": "code",
   "execution_count": null,
   "metadata": {},
   "outputs": [],
   "source": [
    "6+8+8+8+89-54"
   ]
  },
  {
   "cell_type": "code",
   "execution_count": null,
   "metadata": {},
   "outputs": [],
   "source": [
    "'sashi' + ' nepal'"
   ]
  },
  {
   "cell_type": "code",
   "execution_count": null,
   "metadata": {},
   "outputs": [],
   "source": [
    "55%3"
   ]
  },
  {
   "cell_type": "code",
   "execution_count": null,
   "metadata": {},
   "outputs": [],
   "source": [
    "55//3"
   ]
  },
  {
   "cell_type": "code",
   "execution_count": null,
   "metadata": {},
   "outputs": [],
   "source": [
    "3 == 5"
   ]
  },
  {
   "cell_type": "markdown",
   "metadata": {},
   "source": [
    "# Print and Input functions:"
   ]
  },
  {
   "cell_type": "code",
   "execution_count": null,
   "metadata": {},
   "outputs": [],
   "source": [
    "print('The capybara is the worlds largest rodent')\n",
    "print('The capybara likes to live in groups')\n",
    "print(\"The capybara can swim\")\n",
    "\n",
    "print(\"the capybara lives in \\nSouth America\")\n",
    "print(\"\"\"This is the strangest\n",
    "way to print over multiple lines I know\"\"\")\n",
    "\n",
    "print('here is a double quote \"' + \" here is a single quote '\")\n",
    "print(\"or you can just do this \\\" does that work\")\n",
    "print(\"can I just print a \\ on the screen?\")\n",
    "print('''This is the first line.\n",
    "This is the second line.\n",
    "\"What's your name?,\" I asked.\n",
    "He said \"James, James Bond.\"\n",
    "''')\n",
    "#using \\n in text\n",
    "print(\"But what if I want samachar\\news \")\n"
   ]
  },
  {
   "cell_type": "code",
   "execution_count": null,
   "metadata": {},
   "outputs": [],
   "source": [
    "print(\"The capybara is the worlds largest rodent.\\nThe capybara likes to live in groups\")\n"
   ]
  },
  {
   "cell_type": "code",
   "execution_count": null,
   "metadata": {},
   "outputs": [],
   "source": [
    "print('''My name is Sashi Nepal.\n",
    "I live in Nepalgunj.\n",
    "It's very hot in here.\n",
    "It feels like 37 degree centigrade here. \n",
    "''')"
   ]
  },
  {
   "cell_type": "code",
   "execution_count": null,
   "metadata": {},
   "outputs": [],
   "source": [
    "print(\"But what if I want samachar\\\\news \")"
   ]
  },
  {
   "cell_type": "code",
   "execution_count": null,
   "metadata": {},
   "outputs": [],
   "source": [
    "name = input()"
   ]
  },
  {
   "cell_type": "code",
   "execution_count": null,
   "metadata": {},
   "outputs": [],
   "source": [
    "name\n"
   ]
  },
  {
   "cell_type": "code",
   "execution_count": null,
   "metadata": {},
   "outputs": [],
   "source": [
    "#write a program that ask user for two numbers and add those numbers. Also print the result."
   ]
  },
  {
   "cell_type": "markdown",
   "metadata": {},
   "source": [
    "1) ask user for first number.\n",
    "2) ask user for second number.\n",
    "3) add those numbers.\n",
    "4) print the result of addition."
   ]
  },
  {
   "cell_type": "code",
   "execution_count": null,
   "metadata": {},
   "outputs": [],
   "source": [
    "first = int(input('Enter the first number: '))\n",
    "second = int(  input('Enter the second number: ')  )\n",
    "result = first + second\n",
    "print('The sum of first and second number is ',result)\n"
   ]
  },
  {
   "cell_type": "code",
   "execution_count": null,
   "metadata": {},
   "outputs": [],
   "source": [
    "print('What is your name?')\n",
    "name = input()\n",
    "print('Where do you live?')\n",
    "place = input()\n",
    "print('What is your age?')\n",
    "age = input()\n",
    "print('Hello!! ', name.capitalize())\n",
    "print('So, you are from ', place.capitalize())\n",
    "print(\"You don't look like \", age, ' years old.')"
   ]
  },
  {
   "cell_type": "code",
   "execution_count": 5,
   "metadata": {},
   "outputs": [
    {
     "name": "stdout",
     "output_type": "stream",
     "text": [
      "enter the fruit you like:apple\n",
      "enter the fruit you like:mango\n",
      "enter the fruit you like:orange\n",
      "I like apple, mango and orange\n"
     ]
    }
   ],
   "source": [
    "\n",
    "fruit = input('enter the fruit you like:')\n",
    "fruit1 = input('enter the fruit you like:')\n",
    "fruit2 = input('enter the fruit you like:')\n",
    "\n",
    "\n",
    "print(f\"I like {fruit}, {fruit1} and {fruit2}\")"
   ]
  },
  {
   "cell_type": "markdown",
   "metadata": {},
   "source": [
    "# String maniputation and formatting:\n",
    "### (N.B :Please build the habit of writing comment while writing code. It's really a good practice to comment your code wherever it is possible.)"
   ]
  },
  {
   "cell_type": "code",
   "execution_count": 8,
   "metadata": {},
   "outputs": [
    {
     "name": "stdout",
     "output_type": "stream",
     "text": [
      "enter the fruit you like:jack fruit\n",
      "enter the fruit you like:pomegranate\n",
      "enter the fruit you like:mango\n",
      "I like pomegranate, mango and jack fruit\n"
     ]
    }
   ],
   "source": [
    "fruit = input('enter the fruit you like:')\n",
    "fruit1 = input('enter the fruit you like:')\n",
    "fruit2 = input('enter the fruit you like:')\n",
    "print(\"I like {1:5s}, {2:5s} and {0:5s}\".format(fruit, fruit1, fruit2) )\n"
   ]
  },
  {
   "cell_type": "code",
   "execution_count": null,
   "metadata": {},
   "outputs": [],
   "source": [
    "print('What is your name?')\n",
    "name = input()\n",
    "print('Where do you live?')\n",
    "place = input()\n",
    "print('What is your age?')\n",
    "age = int(input())\n",
    "print('''Hello!! {0:10s}. \n",
    "So, you are from {1:20s}. \n",
    "You are {2:2d} years old.'''.format(name, place,age) )\n",
    "\n"
   ]
  },
  {
   "cell_type": "markdown",
   "metadata": {},
   "source": [
    "# Turtle graphics\n",
    "\n",
    "Turtle graphics is a popular way for introducing programming to kids. It was part of the original Logo programming language developed by Wally Feurzig and Seymour Papert in 1966.\n",
    "\n",
    "Imagine a robotic turtle starting at (0, 0) in the x-y plane. After an import turtle, give it the command turtle.forward(15), and it moves (on-screen!) 15 pixels in the direction it is facing, drawing a line as it moves. Give it the command turtle.right(25), and it rotates in-place 25 degrees clockwise.\n",
    "\n",
    "## Basic Commands\n",
    "\n",
    "|Commands|Function|\n",
    "|:-------|:-------|\n",
    "|turtle.forward(x)|moves turtle forward by distance x|\n",
    "|turtle.right(x)|turns turtle right by x degree|\n",
    "|turtle.left(x)|turns turtle left by x degree|\n",
    "|turtle.color('x')|change the color of turtle to color x( like red, blue)|\n",
    "|turtle.pensize(x)|change the thickness of line drawn to x (x is number like 1, 2, 3 etc.)|\n",
    "|turtle.shape(x)  | shapes can be “arrow”, “turtle”, “circle”, “square”, “triangle”, “classic”.|"
   ]
  },
  {
   "cell_type": "code",
   "execution_count": null,
   "metadata": {},
   "outputs": [],
   "source": []
  },
  {
   "cell_type": "code",
   "execution_count": null,
   "metadata": {},
   "outputs": [],
   "source": []
  },
  {
   "cell_type": "code",
   "execution_count": null,
   "metadata": {},
   "outputs": [],
   "source": []
  },
  {
   "cell_type": "code",
   "execution_count": null,
   "metadata": {},
   "outputs": [],
   "source": []
  }
 ],
 "metadata": {
  "kernelspec": {
   "display_name": "Python 3",
   "language": "python",
   "name": "python3"
  },
  "language_info": {
   "codemirror_mode": {
    "name": "ipython",
    "version": 3
   },
   "file_extension": ".py",
   "mimetype": "text/x-python",
   "name": "python",
   "nbconvert_exporter": "python",
   "pygments_lexer": "ipython3",
   "version": "3.7.6"
  }
 },
 "nbformat": 4,
 "nbformat_minor": 4
}
