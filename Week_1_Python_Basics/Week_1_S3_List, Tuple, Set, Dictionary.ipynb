{
 "cells": [
  {
   "cell_type": "markdown",
   "id": "ff6aa9c2",
   "metadata": {},
   "source": [
    "# List, Tuple, Dictionary, Set\n",
    "\n",
    "https://docs.python.org/3/tutorial/datastructures.html"
   ]
  },
  {
   "cell_type": "markdown",
   "id": "a4e71800",
   "metadata": {},
   "source": [
    "# List\n",
    "\n",
    "- Lists are used to store multiple items in a single variable (sequence type).\n",
    "- A list can contain homogeneous or heterogeneous items.\n",
    "- A list is a mutable sequence. Mutable means that you can change a list after its creation.\n",
    "- A list can be nested.\n",
    "\n",
    "\n",
    "- Lists and strings have many common properties, such as indexing and slicing operations. They are two examples of sequence data types."
   ]
  },
  {
   "cell_type": "markdown",
   "id": "6568eff9",
   "metadata": {},
   "source": [
    "### Creating a list"
   ]
  },
  {
   "cell_type": "code",
   "execution_count": 36,
   "id": "3f59c779",
   "metadata": {},
   "outputs": [
    {
     "name": "stdout",
     "output_type": "stream",
     "text": [
      "[10, 20, 30, 40]\n"
     ]
    }
   ],
   "source": [
    "a=[10, 20, 30, 40]\n",
    "print(a)"
   ]
  },
  {
   "cell_type": "code",
   "execution_count": 43,
   "id": "b9c982f8",
   "metadata": {},
   "outputs": [
    {
     "name": "stdout",
     "output_type": "stream",
     "text": [
      "[10, 'hello', 30, True, 'world']\n"
     ]
    }
   ],
   "source": [
    "a=[10, 'hello', 30, True, 'world']\n",
    "print(a)"
   ]
  },
  {
   "cell_type": "code",
   "execution_count": 46,
   "id": "f4d198cd",
   "metadata": {},
   "outputs": [
    {
     "name": "stdout",
     "output_type": "stream",
     "text": [
      "[[1, 2, 3], 20, 'hello']\n",
      "[1, 2, 3]\n"
     ]
    }
   ],
   "source": [
    "a=[[1,2,3],20,'hello']\n",
    "print(a)\n",
    "\n",
    "print(a[0])"
   ]
  },
  {
   "cell_type": "markdown",
   "id": "cd8c6f73",
   "metadata": {},
   "source": [
    "### Concept of index"
   ]
  },
  {
   "cell_type": "code",
   "execution_count": 41,
   "id": "fc78096e",
   "metadata": {},
   "outputs": [
    {
     "name": "stdout",
     "output_type": "stream",
     "text": [
      "[10, 20, 30, 40]\n",
      "10\n",
      "30\n",
      "[10, 'hello', 30, 40]\n"
     ]
    }
   ],
   "source": [
    "a=[10, 20, 30, 40]\n",
    "print(a)\n",
    "print(a[0])\n",
    "print(a[2])\n",
    "\n",
    "a[1]='hello'\n",
    "print(a)"
   ]
  },
  {
   "cell_type": "markdown",
   "id": "38f961de",
   "metadata": {},
   "source": [
    "### Length of a list"
   ]
  },
  {
   "cell_type": "code",
   "execution_count": 49,
   "id": "53ddc70f",
   "metadata": {},
   "outputs": [
    {
     "name": "stdout",
     "output_type": "stream",
     "text": [
      "3\n",
      "4\n"
     ]
    }
   ],
   "source": [
    "a=[1,2,3]\n",
    "print(len(a))\n",
    "\n",
    "b=[[1,2,3],[4,5,6],[7,8,9],[1,2]]\n",
    "print(len(b))"
   ]
  },
  {
   "cell_type": "markdown",
   "id": "e2ce9a7d",
   "metadata": {},
   "source": [
    "### List methods\n",
    "\n",
    "- `append()`\n",
    "- `clear()`\n",
    "- `copy()`\n",
    "- `count()`\n",
    "- `extend()`\n",
    "- `index()`\n",
    "- `insert()`\n",
    "- `pop()`\n",
    "- `remove()`\n",
    "- `reverse()`\n",
    "- `sort()`"
   ]
  },
  {
   "cell_type": "code",
   "execution_count": 57,
   "id": "398dc363",
   "metadata": {},
   "outputs": [
    {
     "name": "stdout",
     "output_type": "stream",
     "text": [
      "[1, 2, 3]\n",
      "[1, 2, 3, 4]\n",
      "[1, 2, 3, 4, [1, 2, 3]]\n",
      "after clearing []\n",
      "after clearing [] bigyan\n"
     ]
    }
   ],
   "source": [
    "l = [1,2,3]\n",
    "print(l)\n",
    "\n",
    "l.append(4)\n",
    "print(l)\n",
    "\n",
    "l.append([1,2,3])\n",
    "print(l)\n",
    "\n",
    "l.clear()\n",
    "print('after clearing', l)\n",
    "# f-string\n",
    "name='bigyan'\n",
    "print(f'after clearing {l} {name}')"
   ]
  },
  {
   "cell_type": "code",
   "execution_count": 60,
   "id": "73af7333",
   "metadata": {},
   "outputs": [
    {
     "name": "stdout",
     "output_type": "stream",
     "text": [
      "[1, 34, 100]\n"
     ]
    }
   ],
   "source": [
    "l=[1,100,34]\n",
    "l.sort()\n",
    "print(l)"
   ]
  },
  {
   "cell_type": "code",
   "execution_count": 64,
   "id": "5f786fc1",
   "metadata": {},
   "outputs": [
    {
     "name": "stdout",
     "output_type": "stream",
     "text": [
      "a is [1, 2, 3]\n",
      "b is [1, 2, 3]\n",
      "a is [1, 10, 3]\n",
      "b is [1, 10, 3]\n",
      "c is [10, 20, 30]\n",
      "d is [10, 20, 30]\n",
      "c is [10, 20, 30]\n",
      "d is [10, 100, 30]\n"
     ]
    }
   ],
   "source": [
    "## COPY\n",
    "\n",
    "a = [1,2,3]\n",
    "b = a\n",
    "print(f'a is {a}')\n",
    "print(f'b is {b}')\n",
    "\n",
    "b[1]=10\n",
    "print(f'a is {a}')\n",
    "print(f'b is {b}')\n",
    "\n",
    "c = [10,20,30]\n",
    "d = c.copy()\n",
    "print(f'c is {c}')\n",
    "print(f'd is {d}')\n",
    "d[1] = 100\n",
    "print(f'c is {c}')\n",
    "print(f'd is {d}')"
   ]
  },
  {
   "cell_type": "markdown",
   "id": "635940b0",
   "metadata": {},
   "source": [
    "### List slicing"
   ]
  },
  {
   "cell_type": "code",
   "execution_count": 70,
   "id": "ce304909",
   "metadata": {},
   "outputs": [
    {
     "name": "stdout",
     "output_type": "stream",
     "text": [
      "[10, 2]\n",
      "[23, 9]\n",
      "[2, 1]\n"
     ]
    }
   ],
   "source": [
    "my_list=[4,10,2,1,23,9]\n",
    "\n",
    "print(my_list[1:3])\n",
    "\n",
    "print(my_list[-2:])\n",
    "\n",
    "print(my_list[-4:4])"
   ]
  },
  {
   "cell_type": "code",
   "execution_count": 68,
   "id": "9ee1852c",
   "metadata": {},
   "outputs": [
    {
     "name": "stdout",
     "output_type": "stream",
     "text": [
      "[2, 3, 4, 5]\n",
      "[2, 3]\n"
     ]
    }
   ],
   "source": [
    "l = [1,[2,3,4,5],3]\n",
    "print(l[1])\n",
    "print(l[1][0:2])"
   ]
  },
  {
   "cell_type": "markdown",
   "id": "eb7066c5",
   "metadata": {},
   "source": [
    "### Basic Usage"
   ]
  },
  {
   "cell_type": "code",
   "execution_count": 71,
   "id": "5a8f5204",
   "metadata": {},
   "outputs": [
    {
     "data": {
      "image/png": "[encoded data removed]",
      "text/plain": [
       "<Figure size 432x288 with 1 Axes>"
      ]
     },
     "metadata": {
      "needs_background": "light"
     },
     "output_type": "display_data"
    }
   ],
   "source": [
    "from matplotlib import pyplot as plt\n",
    "\n",
    "plt.plot([0.1, 0.2, 0.3, 0.4], [1, 2, 5, 4])\n",
    "plt.show()"
   ]
  },
  {
   "cell_type": "markdown",
   "id": "777a9823",
   "metadata": {},
   "source": [
    "### Iterating through a list"
   ]
  },
  {
   "cell_type": "code",
   "execution_count": null,
   "id": "d25d8e24",
   "metadata": {},
   "outputs": [],
   "source": []
  },
  {
   "cell_type": "markdown",
   "id": "ff28a03b",
   "metadata": {},
   "source": [
    "### Copying a list"
   ]
  },
  {
   "cell_type": "code",
   "execution_count": 5,
   "id": "ab30f675",
   "metadata": {},
   "outputs": [
    {
     "name": "stdout",
     "output_type": "stream",
     "text": [
      "[1, 2, 3]\n",
      "[1, 2, 3]\n"
     ]
    }
   ],
   "source": [
    "some_list = [1,2,3]\n",
    "another_list = some_list.copy()\n",
    "\n",
    "print(some_list)\n",
    "print(another_list)"
   ]
  },
  {
   "cell_type": "code",
   "execution_count": 6,
   "id": "9e5c0473",
   "metadata": {},
   "outputs": [
    {
     "name": "stdout",
     "output_type": "stream",
     "text": [
      "[10, 2, 3]\n"
     ]
    }
   ],
   "source": [
    "a = [1,2,3]\n",
    "b = a\n",
    "\n",
    "b[0] = 10\n",
    "\n",
    "print(a)"
   ]
  },
  {
   "cell_type": "code",
   "execution_count": 4,
   "id": "4a482b2e",
   "metadata": {},
   "outputs": [
    {
     "name": "stdout",
     "output_type": "stream",
     "text": [
      "[1, 2, 3]\n"
     ]
    }
   ],
   "source": [
    "another_list[0]=10\n",
    "print(some_list)"
   ]
  },
  {
   "cell_type": "markdown",
   "id": "58261780",
   "metadata": {},
   "source": [
    "# Tuples\n",
    "\n",
    "\n",
    "- Tuples are another sequence type in Python.\n",
    "- A tuple can contain homogeneous or heterogeneous items.\n",
    "- A tuple is an immutable sequence. You cannot change a tuple after its creation."
   ]
  },
  {
   "cell_type": "code",
   "execution_count": null,
   "id": "95b6ceaf",
   "metadata": {},
   "outputs": [],
   "source": []
  },
  {
   "cell_type": "markdown",
   "id": "31abd1a9",
   "metadata": {},
   "source": [
    "### Creating tuple"
   ]
  },
  {
   "cell_type": "code",
   "execution_count": null,
   "id": "b07080c7",
   "metadata": {},
   "outputs": [],
   "source": []
  },
  {
   "cell_type": "markdown",
   "id": "0e34857c",
   "metadata": {},
   "source": [
    "### Working with tuples\n",
    "\n",
    "- `count()`\n",
    "- `index()`"
   ]
  },
  {
   "cell_type": "code",
   "execution_count": null,
   "id": "cdb703bb",
   "metadata": {},
   "outputs": [],
   "source": []
  },
  {
   "cell_type": "markdown",
   "id": "5978ef83",
   "metadata": {},
   "source": [
    "### Concatenating Tuples"
   ]
  },
  {
   "cell_type": "code",
   "execution_count": 18,
   "id": "41b93cc9",
   "metadata": {},
   "outputs": [
    {
     "name": "stdout",
     "output_type": "stream",
     "text": [
      "(1, 2, 3, 4, 5, 6)\n"
     ]
    }
   ],
   "source": [
    "a = (1,2,3)\n",
    "b = (4,5,6)\n",
    "\n",
    "c = a + b\n",
    "\n",
    "print(c)"
   ]
  },
  {
   "cell_type": "code",
   "execution_count": null,
   "id": "638b13fc",
   "metadata": {},
   "outputs": [],
   "source": []
  },
  {
   "cell_type": "markdown",
   "id": "b284ab90",
   "metadata": {},
   "source": [
    "# Dictionary\n",
    "\n",
    "- A dictionary is collection of key:value pairs. It is also referred to as hash tables or associative arrays in other languages.\n",
    "\n",
    "\n",
    "- Unlike sequences, which are indexed by a range of numbers, dictionaries are indexed by keys, which can be any immutable type; strings and numbers can always be keys."
   ]
  },
  {
   "cell_type": "markdown",
   "id": "c0e78913",
   "metadata": {},
   "source": [
    "### Creating dictionaries"
   ]
  },
  {
   "cell_type": "code",
   "execution_count": null,
   "id": "0901dfd2",
   "metadata": {},
   "outputs": [],
   "source": []
  },
  {
   "cell_type": "markdown",
   "id": "ea0dc719",
   "metadata": {},
   "source": [
    "### Accessing Dictionaries"
   ]
  },
  {
   "cell_type": "code",
   "execution_count": 27,
   "id": "7cb0c2a0",
   "metadata": {},
   "outputs": [],
   "source": [
    "# d['email']"
   ]
  },
  {
   "cell_type": "markdown",
   "id": "9d7d129c",
   "metadata": {},
   "source": [
    "### Dictionary Methods\n",
    "\n",
    "- `d.get(key[, default])`\n",
    "- `d.clear()`\n",
    "- `d.copy()`\n",
    "- `d.items()`\n",
    "- `d.keys()`\n",
    "- `d.values()`\n",
    "- `d.pop(key[, default])`\n",
    "- `d.popitem()` (LIFO)\n",
    "- `d.update([other])`"
   ]
  },
  {
   "cell_type": "code",
   "execution_count": 26,
   "id": "1160d804",
   "metadata": {},
   "outputs": [],
   "source": [
    "## d.update()\n",
    "# sample_dict={'first_name':'James','last_name':'Doe','email':'jdoe@gmail.com'}\n",
    "# sample_dict.update([('something','else')])\n",
    "\n",
    "## Overwrite a pre-existing key\n",
    "# sample_dict.update([('first_name','Mike')])"
   ]
  },
  {
   "cell_type": "markdown",
   "id": "4f3269c9",
   "metadata": {},
   "source": [
    "### Modifying your dictionary"
   ]
  },
  {
   "cell_type": "code",
   "execution_count": 24,
   "id": "0f37992f",
   "metadata": {},
   "outputs": [],
   "source": [
    "# d['email'] = 'another_email@gmail.com'"
   ]
  },
  {
   "cell_type": "markdown",
   "id": "66559430",
   "metadata": {},
   "source": [
    "### Deleting Items From Your Dictionary"
   ]
  },
  {
   "cell_type": "code",
   "execution_count": 23,
   "id": "42f94c8b",
   "metadata": {},
   "outputs": [],
   "source": [
    "# del d['email']\n",
    "# d.pop('email')"
   ]
  },
  {
   "cell_type": "markdown",
   "id": "f6b71acd",
   "metadata": {},
   "source": [
    "# Set\n",
    "\n",
    "- A set is an unordered collection with no duplicate elements.\n",
    "- Basic uses include membership testing and eliminating duplicate entries.\n",
    "- Set objects also support mathematical operations like union, intersection, difference, and symmetric difference."
   ]
  },
  {
   "cell_type": "markdown",
   "id": "1716838f",
   "metadata": {},
   "source": [
    "### Creating a set"
   ]
  },
  {
   "cell_type": "code",
   "execution_count": 28,
   "id": "827d1ac1",
   "metadata": {},
   "outputs": [],
   "source": [
    "my_set={\"a\",\"b\",\"c\",\"c\"}"
   ]
  },
  {
   "cell_type": "markdown",
   "id": "119884de",
   "metadata": {},
   "source": [
    "### Accessing Set Members"
   ]
  },
  {
   "cell_type": "code",
   "execution_count": 30,
   "id": "eb6ec5ca",
   "metadata": {},
   "outputs": [
    {
     "data": {
      "text/plain": [
       "True"
      ]
     },
     "execution_count": 30,
     "metadata": {},
     "output_type": "execute_result"
    }
   ],
   "source": [
    "my_set={\"a\",\"b\",\"c\",\"c\"}\n",
    "\"a\" in my_set"
   ]
  },
  {
   "cell_type": "markdown",
   "id": "153ea3c8",
   "metadata": {},
   "source": [
    "### Changing Items\n",
    "\n",
    "- `add()`\n",
    "- `update()`\n",
    "- `remove()`"
   ]
  },
  {
   "cell_type": "code",
   "execution_count": 31,
   "id": "e03fe948",
   "metadata": {},
   "outputs": [],
   "source": [
    "my_set={\"a\",\"b\",\"c\",\"c\"}\n",
    "my_set.add('d')"
   ]
  },
  {
   "cell_type": "code",
   "execution_count": 32,
   "id": "ae52f798",
   "metadata": {},
   "outputs": [],
   "source": [
    "my_set={\"a\",\"b\",\"c\",\"c\"}\n",
    "my_set.update(['d','e','f'])"
   ]
  },
  {
   "cell_type": "code",
   "execution_count": 33,
   "id": "5ab54f7f",
   "metadata": {},
   "outputs": [],
   "source": [
    "my_set={\"a\",\"b\",\"c\",\"c\"}\n",
    "my_set.remove('a')"
   ]
  },
  {
   "cell_type": "markdown",
   "id": "91bdf02e",
   "metadata": {},
   "source": [
    "### Set Operations\n",
    "\n",
    "- `union()`\n",
    "- `intersection()`\n",
    "- `difference()`"
   ]
  },
  {
   "cell_type": "code",
   "execution_count": null,
   "id": "b5080ed4",
   "metadata": {},
   "outputs": [],
   "source": []
  }
 ],
 "metadata": {
  "kernelspec": {
   "display_name": "Python 3",
   "language": "python",
   "name": "python3"
  },
  "language_info": {
   "codemirror_mode": {
    "name": "ipython",
    "version": 3
   },
   "file_extension": ".py",
   "mimetype": "text/x-python",
   "name": "python",
   "nbconvert_exporter": "python",
   "pygments_lexer": "ipython3",
   "version": "3.8.5"
  }
 },
 "nbformat": 4,
 "nbformat_minor": 5
}
