{
 "cells": [
  {
   "cell_type": "markdown",
   "metadata": {},
   "source": [
    "### <font color ='purple'>@wss21:Winter Spring School </font>\n",
    "\n",
    "Jupyter notebook Author: Raj K Pradhan\n"
   ]
  },
  {
   "cell_type": "markdown",
   "metadata": {},
   "source": [
    "How Numpy works?\n",
    "\n",
    "NumPy is great at storing and manipulating numerical data in arrays.\n",
    "\n",
    "\"Its core object is the ndarray, a mutlidimensional array of a single data type, which can be sorted, reshaped, subject to mathematical operations and statistical analysis... \""
   ]
  },
  {
   "cell_type": "markdown",
   "metadata": {
    "colab_type": "text",
    "id": "Vr1N0QCHqi6V"
   },
   "source": [
    "\n",
    "1. numpy: numerical/vector/matrix\n",
    "2. scipy: scientific/statistical\n",
    "3. matplotlib: visualisation\n"
   ]
  },
  {
   "cell_type": "markdown",
   "metadata": {},
   "source": [
    "Lets take a look at an example."
   ]
  },
  {
   "cell_type": "code",
   "execution_count": null,
   "metadata": {
    "colab": {},
    "colab_type": "code",
    "id": "BzRaNA9YhwqH"
   },
   "outputs": [],
   "source": [
    "import numpy as np\n",
    "#rating of movies "
   ]
  },
  {
   "cell_type": "code",
   "execution_count": null,
   "metadata": {},
   "outputs": [],
   "source": [
    "# Before we do anything, we need to import NumPy\n",
    "import numpy as np\n",
    "\n",
    "#Rating of Breaking bad, Game of thrones, Sherlock, Rome by IMDb, stored in a Numpy array ratigs_of_tvseries\n",
    "\n",
    "ratings_of_tvseries = np.array([9.5, 9.3, 9.1, 8.7])\n",
    "# But they see more than one movie, so we have to create a 2-dimensional array where each row is their ratings for a specific movie.\n",
    "# Here 2D presents the rating of tv series where each coloumn\n",
    "#1st row by IDMb\n",
    "#2nd row by ABC \n",
    "#3rd row by XYZ\n",
    "#4th row by 123\n",
    "# rating out of 10\n",
    "movie_ratings = np.array([[9.5, 9.3, 9.1, 8.7],\n",
    "                          [9.5, 9.2, 9.2, 8.7],\n",
    "                          [9.4, 9.4, 9.1, 8.9], \n",
    "                          [9.6, 9.5, 9.3, 9.0]])\n",
    "\n",
    "movie_ratings_stars = movie_ratings * 10\n",
    "# Now let's say the ratings are always in the same order (Lorie, Marty, Tori, Kurtz) if we wanted to create an array that only had Tori's ratings, we could select that from our movie_ratings array.\n",
    "#no order changes while multiplying (in the same order Breaking bad, Game of thrones, Sherlock, Rome)\n",
    "#GAME OF THRONES (GOT)\n",
    "\n",
    "GOT_ratings = movie_ratings[:, 1]\n",
    "GOT_ratings"
   ]
  },
  {
   "cell_type": "code",
   "execution_count": null,
   "metadata": {},
   "outputs": [],
   "source": [
    "# Find ratings of Sherlock\n",
    "Sherlock_ratings = ___[__ ,__] \n"
   ]
  },
  {
   "cell_type": "code",
   "execution_count": null,
   "metadata": {},
   "outputs": [],
   "source": [
    "# Find ratings of Breaking bad\n",
    "Sherlock_ratings = ___[__ ,__] "
   ]
  },
  {
   "cell_type": "code",
   "execution_count": null,
   "metadata": {},
   "outputs": [],
   "source": [
    "# print the ratings by ABC\n",
    "ratings_by_ABC = ___[__ ,__] \n",
    "print(__)"
   ]
  },
  {
   "cell_type": "code",
   "execution_count": null,
   "metadata": {},
   "outputs": [],
   "source": [
    "# Find average ratings of Breaking bad and print\n",
    "Sherlock_ratings = ___[__ ,__] \n",
    "print(__)"
   ]
  },
  {
   "cell_type": "code",
   "execution_count": null,
   "metadata": {},
   "outputs": [],
   "source": [
    "# GOT rating greater than and equal to 9.3\n",
    "GOT1_ratings = __[:, 1]\n",
    "marty_ratings[__ >= __]\n"
   ]
  },
  {
   "cell_type": "code",
   "execution_count": null,
   "metadata": {},
   "outputs": [],
   "source": [
    "#To create a sequence of number in container, we can use two methods;\n",
    "# > numpy.arange([start, ]stop, [step, ]dtype=None, *, like=None)\n",
    "#the interval including start but excluding stop ([start, stop))\n",
    "np.arange(0,20,2)\n"
   ]
  },
  {
   "cell_type": "code",
   "execution_count": null,
   "metadata": {},
   "outputs": [],
   "source": [
    "# numpy.linspace(start, stop, num=50, endpoint=True,\\\n",
    "#                retstep=False, dtype=None, axis=0)"
   ]
  },
  {
   "cell_type": "code",
   "execution_count": null,
   "metadata": {},
   "outputs": [],
   "source": [
    "np.linspace(0,10) #total of data point = 50 (default)"
   ]
  },
  {
   "cell_type": "code",
   "execution_count": null,
   "metadata": {},
   "outputs": [],
   "source": [
    "avalue = np.linspace(0,10, num =10) #total of data point = 10 "
   ]
  },
  {
   "cell_type": "code",
   "execution_count": null,
   "metadata": {},
   "outputs": [],
   "source": [
    "#omiting final point just setting by endpoint = False as for np.arange\n",
    "np.linspace(0,10, num =10, endpoint = False)"
   ]
  },
  {
   "cell_type": "code",
   "execution_count": null,
   "metadata": {},
   "outputs": [],
   "source": [
    "### ndarray attributes \n",
    "Attribute \n",
    "shape: size of the array along each of its axes, returned as a tuple of integers\n",
    "ndim: No of axes (dimensions) (ndim == len(shape))\n",
    "size : the total no. of elements in the array\n",
    "    \n",
    "dtype : The array's data type\n",
    "data : The buffer\n",
    "    "
   ]
  },
  {
   "cell_type": "code",
   "execution_count": null,
   "metadata": {},
   "outputs": [],
   "source": [
    "#data type \n",
    "\n",
    "avalue.dtype\n",
    "\n",
    "avalue.ndim "
   ]
  },
  {
   "cell_type": "markdown",
   "metadata": {},
   "source": [
    "### Subsetting, Slicing, Indexing"
   ]
  },
  {
   "cell_type": "code",
   "execution_count": null,
   "metadata": {},
   "outputs": [],
   "source": [
    "a = np.array([1, 2, 3])\n",
    "b = np.array([[4, 7 , 9 ], [4.5 , 5.5 , 6.5 ]])"
   ]
  },
  {
   "cell_type": "code",
   "execution_count": null,
   "metadata": {},
   "outputs": [],
   "source": [
    "# Select the element of 'a' at the 2nd index and print\n",
    "print(__)\n"
   ]
  },
  {
   "cell_type": "code",
   "execution_count": null,
   "metadata": {},
   "outputs": [],
   "source": [
    "\n",
    "# Select the element of b at row 1 in column 2\n",
    "#uncoment \n",
    "# b[1,2]"
   ]
  },
  {
   "cell_type": "code",
   "execution_count": null,
   "metadata": {},
   "outputs": [],
   "source": [
    "#Select items from 'a' at index 0 and 1 and print\n"
   ]
  },
  {
   "cell_type": "code",
   "execution_count": null,
   "metadata": {},
   "outputs": [],
   "source": [
    "#Select items from b at row 0 and 1 in column 1\n",
    "b[__:__,__]"
   ]
  },
  {
   "cell_type": "code",
   "execution_count": null,
   "metadata": {},
   "outputs": [],
   "source": [
    "#Select all items from 'b' at row 0 \n"
   ]
  },
  {
   "cell_type": "code",
   "execution_count": null,
   "metadata": {},
   "outputs": [],
   "source": [
    "#Select elements from 'a' that are less than 3\n"
   ]
  },
  {
   "cell_type": "markdown",
   "metadata": {},
   "source": [
    "Arhtematic Operations:\n",
    "(- + * /)"
   ]
  },
  {
   "cell_type": "code",
   "execution_count": null,
   "metadata": {},
   "outputs": [],
   "source": [
    "x = np.linspace(0,10, 6)\n",
    "x**4\n",
    "x"
   ]
  },
  {
   "cell_type": "code",
   "execution_count": null,
   "metadata": {},
   "outputs": [],
   "source": [
    "x -1"
   ]
  },
  {
   "cell_type": "code",
   "execution_count": null,
   "metadata": {},
   "outputs": [],
   "source": [
    "x +3; np.sqrt(x -1)"
   ]
  },
  {
   "cell_type": "markdown",
   "metadata": {},
   "source": [
    "#### Special values of Numpy: nan and inf"
   ]
  },
  {
   "cell_type": "markdown",
   "metadata": {},
   "source": [
    "While calculating the values, mathecmatically not defined or not finite will be come. \n",
    "\n",
    "For example, n/0 >>> np.inf (infinity)\n",
    "\n",
    "0/0 >>> not defined! >>> np.nan  (NaN : \"Not a Number\")\n"
   ]
  },
  {
   "cell_type": "code",
   "execution_count": null,
   "metadata": {},
   "outputs": [],
   "source": [
    "#for example \n",
    "x_ = np.arange(6, dtype = 'f8') #'f8' means 'float64' because 8*8 = 64\n",
    "print(x_)                               #~ 15 decimal digit of precision \n",
    "x_.dtype \n"
   ]
  },
  {
   "cell_type": "code",
   "execution_count": null,
   "metadata": {},
   "outputs": [],
   "source": [
    "x_ /=0 \n",
    "x_"
   ]
  },
  {
   "cell_type": "code",
   "execution_count": null,
   "metadata": {},
   "outputs": [],
   "source": [
    "np.isnan(x_)"
   ]
  },
  {
   "cell_type": "code",
   "execution_count": null,
   "metadata": {},
   "outputs": [],
   "source": [
    "np.isinf(x_) "
   ]
  },
  {
   "cell_type": "code",
   "execution_count": null,
   "metadata": {},
   "outputs": [],
   "source": [
    "np.isfinite(x_)\n",
    "#Note, here nan is neither finite nor infinite, and is not equal to itself!"
   ]
  },
  {
   "cell_type": "code",
   "execution_count": null,
   "metadata": {},
   "outputs": [],
   "source": [
    "mask = np.isfinite(x_)\n",
    "x_[mask]"
   ]
  },
  {
   "cell_type": "markdown",
   "metadata": {},
   "source": [
    "### resize and reshape \n"
   ]
  },
  {
   "cell_type": "code",
   "execution_count": null,
   "metadata": {},
   "outputs": [],
   "source": [
    "rs = np.linspace (0,5,4)\n",
    "ras =rs.resize(2,2) #changing view on the array\n",
    "rs"
   ]
  },
  {
   "cell_type": "code",
   "execution_count": null,
   "metadata": {},
   "outputs": [],
   "source": [
    "rs = np.linspace (0,5,4)\n",
    "rs.reshape(2,2) #not modified \n",
    "rs"
   ]
  },
  {
   "cell_type": "code",
   "execution_count": null,
   "metadata": {},
   "outputs": [],
   "source": [
    "rs = np.linspace (0,5,4)\n",
    "rsb =rs.reshape(2,2) #rs is not modified but rsb is modified, the difference is that as of resize\n",
    "rs"
   ]
  },
  {
   "cell_type": "markdown",
   "metadata": {},
   "source": [
    "### Transposing an Array \n"
   ]
  },
  {
   "cell_type": "code",
   "execution_count": null,
   "metadata": {},
   "outputs": [],
   "source": [
    "xy = np.linspace(0,8,8) #? How to fix this issue?\n",
    "xy.reshape(2,2)"
   ]
  },
  {
   "cell_type": "markdown",
   "metadata": {},
   "source": [
    "### Indexing and Slicing an Array "
   ]
  },
  {
   "cell_type": "code",
   "execution_count": null,
   "metadata": {},
   "outputs": [],
   "source": [
    "aa = np.linspace(1,6,6)\n",
    "aa"
   ]
  },
  {
   "cell_type": "code",
   "execution_count": null,
   "metadata": {},
   "outputs": [],
   "source": [
    "aa[:]"
   ]
  },
  {
   "cell_type": "code",
   "execution_count": null,
   "metadata": {},
   "outputs": [],
   "source": [
    "aa[:1]"
   ]
  },
  {
   "cell_type": "markdown",
   "metadata": {},
   "source": [
    "slicing: [start:end]\n",
    "\n",
    "with defining step: [start:end:step]"
   ]
  },
  {
   "cell_type": "code",
   "execution_count": null,
   "metadata": {},
   "outputs": [],
   "source": [
    "xyz = np.linspace(1,12,12).reshape(4,3)"
   ]
  },
  {
   "cell_type": "code",
   "execution_count": null,
   "metadata": {},
   "outputs": [],
   "source": [
    "xyz"
   ]
  },
  {
   "cell_type": "code",
   "execution_count": null,
   "metadata": {},
   "outputs": [],
   "source": [
    "xyz[2, :]  #[row , column] >> only 3rd row"
   ]
  },
  {
   "cell_type": "code",
   "execution_count": null,
   "metadata": {},
   "outputs": [],
   "source": [
    "xyz[:, 2] # executing second column "
   ]
  },
  {
   "cell_type": "code",
   "execution_count": null,
   "metadata": {},
   "outputs": [],
   "source": [
    "xyz[:, 1:], xyz[1:, 1:], xyz[1: __,1: ] #execute 5,6,7,8 "
   ]
  },
  {
   "cell_type": "code",
   "execution_count": null,
   "metadata": {},
   "outputs": [],
   "source": [
    "xyz[::2, :] ##[:: step, :]"
   ]
  },
  {
   "cell_type": "markdown",
   "metadata": {},
   "source": [
    "### <font color = 'purple'> Minimum and Maximum values </font>"
   ]
  },
  {
   "cell_type": "code",
   "execution_count": null,
   "metadata": {},
   "outputs": [],
   "source": [
    "xyz[3] = [-1,3,-3] #column (axis =0) and row (axis =1)\n",
    "xyz"
   ]
  },
  {
   "cell_type": "code",
   "execution_count": null,
   "metadata": {},
   "outputs": [],
   "source": [
    "xyz.min(), xyz.max() #global minmum and maximum \n"
   ]
  },
  {
   "cell_type": "code",
   "execution_count": null,
   "metadata": {},
   "outputs": [],
   "source": [
    "xyz.max(axis =1)"
   ]
  },
  {
   "cell_type": "markdown",
   "metadata": {},
   "source": [
    "### <font color = 'purple' >np.loadtxt() </font>"
   ]
  },
  {
   "cell_type": "code",
   "execution_count": null,
   "metadata": {},
   "outputs": [],
   "source": [
    "x__ = np.array([[0,2,4], [4,0,11]])\n",
    "x__.shape"
   ]
  },
  {
   "cell_type": "code",
   "execution_count": null,
   "metadata": {},
   "outputs": [],
   "source": [
    "np.any(x__), np.all(x__)"
   ]
  },
  {
   "cell_type": "code",
   "execution_count": null,
   "metadata": {},
   "outputs": [],
   "source": [
    "xyz.min(axis =0)"
   ]
  },
  {
   "cell_type": "raw",
   "metadata": {
    "colab": {
     "base_uri": "https://localhost:8080/",
     "height": 296
    },
    "colab_type": "code",
    "id": "BmDIO4_CzdMV",
    "outputId": "7a4f6697-76e9-470c-f3ee-2563e453bbec"
   },
   "source": [
    "import matplotlib.pyplot as plt\n",
    "x = np.linspace(-2*np.pi, 2*np.pi, 50)\n",
    "L = 0.5\n",
    "y =(1/L)* np.sin(x)\n",
    "\n",
    "plt.plot(x,y)\n",
    "plt.xlabel('x')\n",
    "plt.ylabel(r'$Sin(x)$')"
   ]
  },
  {
   "cell_type": "markdown",
   "metadata": {},
   "source": [
    "### <font color ='purple'> Plotting: Matplotlib </font>"
   ]
  },
  {
   "cell_type": "markdown",
   "metadata": {},
   "source": [
    "<font color='purple'>matplotlib.pyplot.scatter</font> (x, y, s=None, c=None, marker=None, cmap=None, norm=None, vmin=None, vmax=None, alpha=None, linewidths=None, *, edgecolors=None, plotnonfinite=False, data=None, **kwargs)\n",
    "\n"
   ]
  },
  {
   "cell_type": "code",
   "execution_count": null,
   "metadata": {},
   "outputs": [],
   "source": [
    "#link:https://matplotlib.org/stable/tutorials/introductory/customizing.html \n",
    "    \n",
    "import matplotlib.pyplot as plt\n",
    "from matplotlib import rcParams\n",
    "rcParams['font.family'] = 'sans-serif'\n",
    "rcParams[\"font.size\"] = 14\n",
    "rcParams[\"font.family\"] = \"Arial\"\n",
    "rcParams['mathtext.fontset'] = 'custom'\n",
    "rcParams['mathtext.it'] = 'Arial:italic'\n",
    "rcParams['mathtext.rm'] = 'Arial'\n",
    "rcParams['pdf.fonttype']=42\n",
    "\n",
    "from matplotlib.colors import LogNorm\n",
    "import matplotlib.colors as colors"
   ]
  },
  {
   "cell_type": "code",
   "execution_count": null,
   "metadata": {},
   "outputs": [],
   "source": [
    "import pandas as pd\n",
    "df = pd.__('datafile_raj.csv')\n",
    "teff = df.teff\n",
    "logg = df.logg \n",
    "feh = df.feh"
   ]
  },
  {
   "cell_type": "code",
   "execution_count": null,
   "metadata": {},
   "outputs": [],
   "source": [
    "plt.figure(figsize=(10,8))\n",
    "im=plt.scatter(teff,logg,s=0.7,c=feh)\n",
    "plt.colorbar(im,label='Fe/H')\n",
    "plt.gca().invert_xaxis()\n",
    "plt.ylabel('logg')\n",
    "plt.xlabel('T')\n",
    "#plt.savefig('all_loggvsT.jpeg')"
   ]
  },
  {
   "cell_type": "code",
   "execution_count": null,
   "metadata": {},
   "outputs": [],
   "source": [
    "# OR\n",
    "# params = {\n",
    "#     'font.family'        : 'sans',\n",
    "#     'font.size'          : 17,\n",
    "#     'axes.labelsize'     : 20,\n",
    "#     'ytick.labelsize'    : 16,\n",
    "#     'xtick.labelsize'    : 16,\n",
    "#     'legend.fontsize'    : 20,\n",
    "#     'text.usetex'        : True, \n",
    "#     'text.latex.preamble': [r'\\usepackage{upgreek}', r'\\usepackage{amsmath}'],\n",
    "#     }   \n",
    "# plt.rcParams.update(params)\n"
   ]
  },
  {
   "cell_type": "code",
   "execution_count": null,
   "metadata": {},
   "outputs": [],
   "source": [
    "%matplotlib inline\n"
   ]
  },
  {
   "cell_type": "code",
   "execution_count": null,
   "metadata": {},
   "outputs": [],
   "source": [
    "np.random.seed(41)\n",
    "\n",
    "# Lets choose true parameters.\n",
    "m_true = .921\n",
    "c_true = 4.91\n",
    "f_true = .34\n",
    "\n",
    "# Generate mock data set from the model \n",
    "N = 50\n",
    "x = np.sort(10 * np.random.rand(N))\n",
    "yerr = 0.1 + 0.5 * np.random.rand(N)\n"
   ]
  },
  {
   "cell_type": "code",
   "execution_count": null,
   "metadata": {},
   "outputs": [],
   "source": [
    "y = __ * x + ___\n",
    "y += np.abs(___ * y) * np.random.randn(N) #f_true\n",
    "y += __ * np.random.randn(N) #put yerr; random values\n",
    "std = yerr #uncertainties \n",
    "\n",
    "\n",
    "name = 'straight line'\n",
    "\n",
    "\n",
    "plt.___(x, y, yerr=yerr, fmt=\".k\", capsize=0) #error\n",
    "x0 = ___(0, 10, 500)\n",
    "plt.plot(x0, m_true * x0 + c_true, \"k\", alpha=0.4, lw=4)\n",
    "plt.xlim(0, 10)\n",
    "plt.xlabel(\"x\")\n",
    "plt.ylabel(\"y\");"
   ]
  },
  {
   "cell_type": "code",
   "execution_count": null,
   "metadata": {},
   "outputs": [],
   "source": [
    "\n",
    "\n",
    "class StraightLine(object):\n",
    "    def __init__(self, x=None, y=None, std=None,name=None):\n",
    "        self.__ = __\n",
    "        self.__ = __\n",
    "        self.__ = __\n",
    "        self.__ = __\n",
    "            \n",
    "    def plot(self, color=None):\n",
    "        \"\"\"Plot the straight line \"\"\"\n",
    "        plt.___(self.x, self.y, self.std, fmt='.', color='orange') #write error bar\n",
    "        x0 = np.linspace(0, 10, 500)\n",
    "        plt.__(x0, m_true * x0 + c_true, \"k\", alpha=0.4, lw=2)\n",
    "        plt.__('x')#xlabel\n",
    "        plt.__('y') #ylabel\n",
    "        plt.__(self.name) #title\n",
    "\n",
    "# Initialize a st_line object:\n",
    "st_line = ___(___, ___,\n",
    "              ___,\n",
    "              ___)\n",
    "\n",
    "st_line.plot('y')\n",
    "\n",
    "#save plot"
   ]
  },
  {
   "cell_type": "code",
   "execution_count": null,
   "metadata": {},
   "outputs": [],
   "source": []
  }
 ],
 "metadata": {
  "colab": {
   "collapsed_sections": [],
   "name": "Untitled",
   "provenance": []
  },
  "kernelspec": {
   "display_name": "Python 3",
   "language": "python",
   "name": "python3"
  },
  "language_info": {
   "codemirror_mode": {
    "name": "ipython",
    "version": 3
   },
   "file_extension": ".py",
   "mimetype": "text/x-python",
   "name": "python",
   "nbconvert_exporter": "python",
   "pygments_lexer": "ipython3",
   "version": "3.9.5"
  }
 },
 "nbformat": 4,
 "nbformat_minor": 4
}
