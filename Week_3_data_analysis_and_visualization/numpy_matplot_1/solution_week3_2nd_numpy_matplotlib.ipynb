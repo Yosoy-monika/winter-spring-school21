{
 "cells": [
  {
   "cell_type": "markdown",
   "metadata": {},
   "source": [
    "@wss21:Winter Spring School\n",
    "\n",
    "Jupyter notebook Author: Raj K Pradhan\n"
   ]
  },
  {
   "cell_type": "markdown",
   "metadata": {
    "colab_type": "text",
    "id": "RbxY0DuUJKTj"
   },
   "source": [
    "### Matrix \n",
    "\n",
    "---\n",
    "\n"
   ]
  },
  {
   "cell_type": "markdown",
   "metadata": {
    "colab_type": "text",
    "id": "SnI1fFE9Jgs-"
   },
   "source": [
    "A matrix is a two dimensional data structure where numbers are arranged into rows and columns. For examples"
   ]
  },
  {
   "cell_type": "markdown",
   "metadata": {
    "colab_type": "text",
    "id": "_43m5hqGKHs1"
   },
   "source": [
    "\\begin{array}{ccc}\n",
    "1st&2nd& 3th\\\\\n",
    "-3 &\\star & \\#\\\\\n",
    "\\star &4&$\\\\\n",
    "\\#& $ &10\n",
    "\\end{array}\n",
    "\n",
    "Covariance matrix!!"
   ]
  },
  {
   "cell_type": "markdown",
   "metadata": {
    "colab_type": "text",
    "id": "goTwFNJoN9qt"
   },
   "source": [
    ">> Python doesnot have a built-in types of matrices. However, we can treat list of list as a matrix. For ex. "
   ]
  },
  {
   "cell_type": "code",
   "execution_count": null,
   "metadata": {
    "colab": {},
    "colab_type": "code",
    "id": "k0l8bQpqKFU4"
   },
   "outputs": [],
   "source": [
    "A = [[1,3,5], [2,4,6]] #put integers 1 3 5  in first row and for second row; 2, 4, 6"
   ]
  },
  {
   "cell_type": "code",
   "execution_count": null,
   "metadata": {
    "colab": {
     "base_uri": "https://localhost:8080/",
     "height": 35
    },
    "colab_type": "code",
    "id": "Ax5Re0UzOfDa",
    "outputId": "91aeb027-2520-4061-ab7d-e4e81d38753c"
   },
   "outputs": [],
   "source": [
    "A       #Print(A)"
   ]
  },
  {
   "cell_type": "markdown",
   "metadata": {
    "colab_type": "text",
    "id": "KV-S-aXaOoMU"
   },
   "source": [
    "We can treat this above matrix as a matrix having list of a list with 2 rows and 3 columns. "
   ]
  },
  {
   "cell_type": "markdown",
   "metadata": {
    "colab_type": "text",
    "id": "IetbmGRCO8pz"
   },
   "source": [
    "Let's fun with a nested matrix. "
   ]
  },
  {
   "cell_type": "code",
   "execution_count": null,
   "metadata": {
    "colab": {},
    "colab_type": "code",
    "id": "WvNOnneROkla"
   },
   "outputs": [],
   "source": [
    "A = [[1,2,3], [4,5,6], [7,8,9]] #[] represents list and it contains first row. There are three square brackets so we can say tha there are three rows."
   ]
  },
  {
   "cell_type": "code",
   "execution_count": null,
   "metadata": {
    "colab": {
     "base_uri": "https://localhost:8080/",
     "height": 35
    },
    "colab_type": "code",
    "id": "rN7W_K2BP1d9",
    "outputId": "ec6ffca8-5ae3-4cbc-ff24-ff894d65a4d2"
   },
   "outputs": [],
   "source": [
    "print(\"A =\", A)"
   ]
  },
  {
   "cell_type": "markdown",
   "metadata": {
    "colab_type": "text",
    "id": "_d1yV2V-RLm6"
   },
   "source": [
    "\\begin{bmatrix} \n",
    "    1   &2   & 3 \\\\\n",
    "    4   & 5 & 6 \\\\\n",
    "    7&8&9 \\\\\n",
    "\\end{bmatrix}"
   ]
  },
  {
   "cell_type": "code",
   "execution_count": null,
   "metadata": {
    "colab": {
     "base_uri": "https://localhost:8080/",
     "height": 35
    },
    "colab_type": "code",
    "id": "NbA_ZhlLP-D8",
    "outputId": "ff1af3a0-ccec-4fdf-b928-599a3b9fbdb0"
   },
   "outputs": [],
   "source": [
    "#print(\"A[2] =\", A[2]) #second row *always staring from O label \n",
    "#print(\"A[1][2]=\", A[1][2]) #3rd element of second row\n",
    "print(\"A[1][2]=\", A[1][1]) #second element of second row \n"
   ]
  },
  {
   "cell_type": "markdown",
   "metadata": {
    "colab_type": "text",
    "id": "M4fk0wkJZN8W"
   },
   "source": [
    "You can also use the syntax; \n",
    "Using Array!!\n",
    "\n",
    "``` \n",
    "import numpy as np\n",
    "```\n",
    "\n"
   ]
  },
  {
   "cell_type": "code",
   "execution_count": null,
   "metadata": {
    "colab": {
     "base_uri": "https://localhost:8080/",
     "height": 72
    },
    "colab_type": "code",
    "id": "y18rXQg2ZjMS",
    "outputId": "3782c590-ca41-4f31-ab2e-87a88c5467a9"
   },
   "outputs": [],
   "source": [
    "import numpy as np\n",
    "A = np.array([[1,2,3], [4,5,6], [7,8,9]]) #in the format of array \n",
    "print(A)  #Print multidimensional array"
   ]
  },
  {
   "cell_type": "code",
   "execution_count": null,
   "metadata": {
    "colab": {
     "base_uri": "https://localhost:8080/",
     "height": 35
    },
    "colab_type": "code",
    "id": "uyIR9IVrZQGh",
    "outputId": "f78b8ab1-2cee-40fd-925f-3a903dd8fc58"
   },
   "outputs": [],
   "source": [
    "A[0, 2] # 3rd element of first row "
   ]
  },
  {
   "cell_type": "code",
   "execution_count": null,
   "metadata": {
    "colab": {},
    "colab_type": "code",
    "id": "RXvZ1QdqQaUj"
   },
   "outputs": [],
   "source": [
    "#print last element of first row #do yourself\n",
    "print(\"__\", ___)"
   ]
  },
  {
   "cell_type": "markdown",
   "metadata": {
    "colab_type": "text",
    "id": "pTIbfOOnTa63"
   },
   "source": [
    "#### How to print 2nd column?\n",
    "  \n"
   ]
  },
  {
   "cell_type": "code",
   "execution_count": null,
   "metadata": {
    "colab": {
     "base_uri": "https://localhost:8080/",
     "height": 35
    },
    "colab_type": "code",
    "id": "Q4EA0RP6TXpR",
    "outputId": "6a6d4cba-2020-4723-9b3b-9b69561025db"
   },
   "outputs": [],
   "source": [
    "second_column = []\n",
    "for row in A: \n",
    "  second_column.append(row[1])\n",
    "\n",
    "print(\"2rd column = \", second_column)"
   ]
  },
  {
   "cell_type": "markdown",
   "metadata": {
    "colab_type": "text",
    "id": "iBXNkkJ-UMBI"
   },
   "source": [
    "To print 2nd column?"
   ]
  },
  {
   "cell_type": "code",
   "execution_count": null,
   "metadata": {
    "colab": {},
    "colab_type": "code",
    "id": "gzDMId__TzkL"
   },
   "outputs": [],
   "source": [
    "column = []\n",
    "for raj in A: #type row\n",
    "  column.append(raj[1]) #append on it. Put row[1]\n",
    "\n",
    "print(\"2nd = \", column) #print 2nd column"
   ]
  },
  {
   "cell_type": "markdown",
   "metadata": {
    "colab_type": "text",
    "id": "pht7Wj-UWJzu"
   },
   "source": [
    "In computer programming a loop is statement or block of statements\n",
    "that is executed repeatedly. Python has two kinds of loops, a for loop\n",
    "and a while loop. "
   ]
  },
  {
   "cell_type": "markdown",
   "metadata": {
    "colab_type": "text",
    "id": "ABjEtXYIbIb_"
   },
   "source": [
    "### How to create a NumPy array?\n",
    "\n"
   ]
  },
  {
   "cell_type": "code",
   "execution_count": null,
   "metadata": {
    "colab": {},
    "colab_type": "code",
    "id": "Q1dfh70sbStf"
   },
   "outputs": [],
   "source": [
    "import numpy as np\n",
    "\n",
    "A = np.array(__#_)   #[[3, -9, 3], [2, 4, 5]]\n",
    "print(A)\n",
    "\n",
    "A = np.array(__#_]) # Array of floats\n",
    "print(A)\n",
    "\n",
    "A = np.array( __#__, dtype = complex) # Array of complex numbers\n",
    "print(A)\n"
   ]
  },
  {
   "cell_type": "markdown",
   "metadata": {
    "colab_type": "text",
    "id": "DxVHpcOWK3St"
   },
   "source": [
    "#  Linear Equations"
   ]
  },
  {
   "cell_type": "markdown",
   "metadata": {
    "colab_type": "text",
    "id": "oFcw7VdZK3Sv"
   },
   "source": [
    "## Solving Systems of Equations\n",
    "\n",
    "Consider a linear equations in the form of:\n",
    "\n",
    "\n",
    "```\n",
    "Ax = b\n",
    "```\n",
    "This reduces the problem to a matrix equation and now we can solve the system to find $A^{-1}$.\n"
   ]
  },
  {
   "cell_type": "markdown",
   "metadata": {
    "colab_type": "text",
    "id": "klVt4KBKK3Sw"
   },
   "source": [
    "### Systems of Equations with Python\n"
   ]
  },
  {
   "cell_type": "code",
   "execution_count": null,
   "metadata": {
    "colab": {},
    "colab_type": "code",
    "id": "PncWhhgaK3Sx"
   },
   "outputs": [],
   "source": [
    "A = np.array([ [3,-9], [2,4] ])\n",
    "b = np.array([-42,2])"
   ]
  },
  {
   "cell_type": "markdown",
   "metadata": {
    "colab_type": "text",
    "id": "TVCw47hSK3S5"
   },
   "source": [
    "Now, we can use the `linalg.solve()` function to solve the x and y values. Note that these values will be\n"
   ]
  },
  {
   "cell_type": "code",
   "execution_count": null,
   "metadata": {
    "colab": {
     "base_uri": "https://localhost:8080/",
     "height": 35
    },
    "colab_type": "code",
    "id": "aqTAuNh9cPTr",
    "outputId": "6eabfc22-c6cf-41e3-b33a-2a78e105130a"
   },
   "outputs": [],
   "source": [
    "#To solve x and y values\n",
    "import numpy as np\n",
    "np.linalg.solve(A,b)"
   ]
  },
  {
   "cell_type": "code",
   "execution_count": null,
   "metadata": {
    "colab": {},
    "colab_type": "code",
    "id": "95bKRXv7f7at"
   },
   "outputs": [],
   "source": []
  },
  {
   "cell_type": "markdown",
   "metadata": {
    "colab_type": "text",
    "id": "mU2Nc6R2K3TF"
   },
   "source": [
    "## Matrix Operations\n",
    "\n",
    "What makes matrices particularly useful is the fact that we can perform operations on them. \n",
    "\n",
    "### Addition\n",
    " \n"
   ]
  },
  {
   "cell_type": "code",
   "execution_count": null,
   "metadata": {
    "colab": {},
    "colab_type": "code",
    "id": "pzm5dyT2PRnv"
   },
   "outputs": [],
   "source": [
    "import numpy as np\n",
    "m1 = np.array([1,2,3])"
   ]
  },
  {
   "cell_type": "code",
   "execution_count": null,
   "metadata": {
    "colab": {},
    "colab_type": "code",
    "id": "dLMC1ZHxPUkv"
   },
   "outputs": [],
   "source": [
    "m2 = np.array([4,5,6])"
   ]
  },
  {
   "cell_type": "code",
   "execution_count": null,
   "metadata": {
    "colab": {
     "base_uri": "https://localhost:8080/",
     "height": 35
    },
    "colab_type": "code",
    "id": "2rkEpUAJPX6G",
    "outputId": "0cb63d4a-08fc-47e5-9dce-96a2a0d94218"
   },
   "outputs": [],
   "source": [
    "m1 + m2"
   ]
  },
  {
   "cell_type": "markdown",
   "metadata": {
    "colab_type": "text",
    "id": "v5W4nH9SK3TY"
   },
   "source": [
    "### Identity Matrix\n",
    "Diagonal Matrix having 1s on the diagonal from the top left to the bottom right, such as \n",
    "\n",
    "``` \n",
    "[[ 1., 0., 0.],\n",
    "[ 0., 1., 0.],\n",
    "[ 0., 0., 1.]]\n",
    "```\n",
    "Using `eye()`, we can generate diagonal matrices \n"
   ]
  },
  {
   "cell_type": "code",
   "execution_count": null,
   "metadata": {
    "colab": {
     "base_uri": "https://localhost:8080/",
     "height": 35
    },
    "colab_type": "code",
    "id": "IuK_CbrkQdnM",
    "outputId": "f4c3b61e-fc28-43ff-ba5d-672af2ff9f63"
   },
   "outputs": [],
   "source": [
    "np.eye()    #print 5x5 matrix "
   ]
  },
  {
   "cell_type": "code",
   "execution_count": null,
   "metadata": {
    "colab": {},
    "colab_type": "code",
    "id": "1L5WyU3_QiM9"
   },
   "outputs": [],
   "source": []
  },
  {
   "cell_type": "code",
   "execution_count": null,
   "metadata": {
    "colab": {},
    "colab_type": "code",
    "id": "FuPgjB9RQtBP"
   },
   "outputs": [],
   "source": []
  },
  {
   "cell_type": "markdown",
   "metadata": {
    "colab_type": "text",
    "id": "ILF3CVb9SoZN"
   },
   "source": [
    "### cross product \n"
   ]
  },
  {
   "cell_type": "markdown",
   "metadata": {
    "colab_type": "text",
    "id": "mkaD0GXMS9Wx"
   },
   "source": [
    "\\begin{array}{ccc}\n",
    "i&j& k\\\\\n",
    "1 &2 &3\\\\\n",
    "4 &5&6\\\\\n",
    "\\end{array}\n",
    "\n",
    "a $\\times$ b = $(a_2 b_3 - b_2 a_3) \\vec{i} - (a_1 b_3 - b_3 a_1) \\vec{j} + (a_1 b_2 - b_1 a_2) \\vec{k}$"
   ]
  },
  {
   "cell_type": "code",
   "execution_count": null,
   "metadata": {
    "colab": {
     "base_uri": "https://localhost:8080/",
     "height": 35
    },
    "colab_type": "code",
    "id": "SZJ6jJ87Q2Ze",
    "outputId": "58e91fae-8f74-47d7-fce3-5aabbd0bd275"
   },
   "outputs": [],
   "source": [
    "#say \n",
    "m1 = [1,2,3]\n",
    "m2 = [4,5,6]\n",
    "np.cross(m1,m2)"
   ]
  },
  {
   "cell_type": "markdown",
   "metadata": {
    "colab_type": "text",
    "id": "rF7u7EjWK3Td"
   },
   "source": [
    "### Inverse Matrices\n",
    "\n",
    "The matrix A is said to be invertible if there exists a matrix A<sub>-1</sub> such that\n",
    "\n",
    "A<sub>-1</sub>A = I and AA<sub>-1</sub> = I.\n",
    "\n",
    "\n",
    "We can get the inverse matrix with numpy: "
   ]
  },
  {
   "cell_type": "code",
   "execution_count": null,
   "metadata": {
    "colab": {
     "base_uri": "https://localhost:8080/",
     "height": 54
    },
    "colab_type": "code",
    "id": "3dOhJlkAVYJX",
    "outputId": "a04dcfae-bd95-4254-91ac-da1e8eb85b6e"
   },
   "outputs": [],
   "source": [
    "#nxn matrix eg. 2x2\n",
    "m1 = [1,2]\n",
    "m2 = [4,5]\n",
    "m = np.array([m1,m2])\n",
    "inverse = np.linalg.inv(m)\n",
    "print(inverse)"
   ]
  },
  {
   "cell_type": "markdown",
   "metadata": {
    "colab_type": "text",
    "id": "WdQWfrqEK3T3"
   },
   "source": [
    "## Determinants"
   ]
  },
  {
   "cell_type": "markdown",
   "metadata": {
    "colab_type": "text",
    "id": "5S9ARsHdK3T5"
   },
   "source": [
    "### Trace and Determinant\n",
    "\n",
    "The trace of a matrix m is the sum of its diagonal elements. "
   ]
  },
  {
   "cell_type": "code",
   "execution_count": null,
   "metadata": {
    "colab": {
     "base_uri": "https://localhost:8080/",
     "height": 72
    },
    "colab_type": "code",
    "id": "9OUYTfPSVZys",
    "outputId": "6e0081ed-e017-4ffc-9763-af95373e4c59"
   },
   "outputs": [],
   "source": [
    "#print trace of matrix m\n",
    "print(m) \n",
    "np.trace(m) #sume of 1 and 5 = 6"
   ]
  },
  {
   "cell_type": "markdown",
   "metadata": {
    "colab_type": "text",
    "id": "vhN6rqSzK3T9"
   },
   "source": [
    "\\begin{bmatrix} \n",
    "    a      & b  \\\\\n",
    "    c      & d  \\\\\n",
    "\\end{bmatrix}"
   ]
  },
  {
   "cell_type": "markdown",
   "metadata": {
    "colab_type": "text",
    "id": "Ig8shVDKK3T-"
   },
   "source": [
    "\n",
    "\n",
    "$$ = ad - bc $$"
   ]
  },
  {
   "cell_type": "markdown",
   "metadata": {
    "colab_type": "text",
    "id": "bTUTIbSoK3UD"
   },
   "source": [
    "In python, you can use the following function:"
   ]
  },
  {
   "cell_type": "code",
   "execution_count": null,
   "metadata": {
    "colab": {},
    "colab_type": "code",
    "id": "mjYKZblTZYN8"
   },
   "outputs": [],
   "source": [
    "det = np.linalg.det(m)\n",
    "#print(float(det))\n",
    "print(int(det))"
   ]
  },
  {
   "cell_type": "markdown",
   "metadata": {
    "colab_type": "text",
    "id": "qa0Pe_vHaJuQ"
   },
   "source": [
    "Transpose of a matrix: A\n",
    "\\begin{bmatrix} \n",
    "    1     & 2  \\\\\n",
    "    3      & 4  \\\\\n",
    "\\end{bmatrix}"
   ]
  },
  {
   "cell_type": "code",
   "execution_count": null,
   "metadata": {
    "colab": {},
    "colab_type": "code",
    "id": "8QKASdgLaag2"
   },
   "outputs": [],
   "source": [
    "A = np.array([[1,2], [3,4]])"
   ]
  },
  {
   "cell_type": "code",
   "execution_count": null,
   "metadata": {
    "colab": {},
    "colab_type": "code",
    "id": "3krVu_dyZY_x"
   },
   "outputs": [],
   "source": [
    "A.transpose()"
   ]
  },
  {
   "cell_type": "markdown",
   "metadata": {
    "colab_type": "text",
    "id": "I3UQNeQP3knD"
   },
   "source": [
    "###Slicing of a Matrix\n",
    "####import numpy as np"
   ]
  },
  {
   "cell_type": "code",
   "execution_count": null,
   "metadata": {
    "colab": {},
    "colab_type": "code",
    "id": "EBP2ENYfasCB"
   },
   "outputs": [],
   "source": [
    "\n",
    "l = np.array([1, 3, 5, 7, 9, 7, 5])\n",
    "# 3rd to 5th elements\n",
    "print(letters[2:5])        # Output: [5, 7, 9]\n",
    "\n",
    "# 1st to 4th elements\n",
    "print(letters[:-5])        # Output: [1, 3]   \n",
    "\n",
    "# 6th to last elements\n",
    "print(letters[5:])         # Output:[7, 5]\n",
    "\n",
    "# 1st to last elements\n",
    "print(letters[:])          # Output:[1, 3, 5, 7, 9, 7, 5]\n",
    "\n",
    "# reversing a list\n",
    "print(letters[::-1])          # Output:[5, 7, 9, 7, 5, 3, 1]"
   ]
  },
  {
   "cell_type": "code",
   "execution_count": null,
   "metadata": {
    "colab": {},
    "colab_type": "code",
    "id": "28HLK0KU3kAy"
   },
   "outputs": [],
   "source": [
    "import numpy as np \n",
    "A = [45,37,42,35,39]\n",
    "B = [38,31,26,28,33]\n",
    "C = [10,15,17,21,12]\n",
    "\n",
    "data = np.array([A,B,C])\n",
    "\n",
    "covMatrix = np.cov(data,bias=False)\n",
    "print (covMatrix)"
   ]
  },
  {
   "cell_type": "markdown",
   "metadata": {
    "colab_type": "text",
    "id": "d6YcmblZK3Uh"
   },
   "source": [
    "## Eigenvalues & Eigenvectors\n",
    "\n",
    "Let A be an `n x n` matrix. The number &lambda; is an eigenvalue of `A` if there exists a non-zero vector `v` such that\n",
    "\n",
    "Av = &lambda;v\n",
    "\n",
    "where v be the e eigenvector of `A` corresponding to &lambda;. How can we calculate the eigenvalues and eigenvectors of a matrix using numpy: "
   ]
  },
  {
   "cell_type": "code",
   "execution_count": null,
   "metadata": {
    "colab": {},
    "colab_type": "code",
    "id": "SRxfiEjyay-3"
   },
   "outputs": [],
   "source": [
    "eigenvecs, eigvals = np.linalg.eigvals(A)\n",
    "print(eigenvecs, eigvals)"
   ]
  },
  {
   "cell_type": "markdown",
   "metadata": {},
   "source": [
    "### Arrays as vectors"
   ]
  },
  {
   "cell_type": "code",
   "execution_count": null,
   "metadata": {},
   "outputs": [],
   "source": [
    "from IPython.core.interactiveshell import InteractiveShell\n",
    "InteractiveShell.ast_node_interactivity = \"all\"\n",
    "from IPython import display\n",
    "\n",
    "from pathlib import Path\n",
    "gifPath = Path(\"1_LTuNJRV8mJ1wYSEl_MsPFw.gif\")\n",
    "# Display GIF in Jupyter, CoLab, IPython\n",
    "with open(gifPath,'rb') as f:\n",
    "    display.Image(data=f.read(), format='png')"
   ]
  },
  {
   "cell_type": "code",
   "execution_count": null,
   "metadata": {},
   "outputs": [],
   "source": [
    "xa = np.array([[1,2], [3,4]])\n",
    "xb = np.array([[5,6], [7,8]])"
   ]
  },
  {
   "cell_type": "code",
   "execution_count": null,
   "metadata": {},
   "outputs": [],
   "source": [
    "xa.dot(xb) #above matrix operating dot product"
   ]
  },
  {
   "cell_type": "code",
   "execution_count": null,
   "metadata": {},
   "outputs": [],
   "source": [
    "np.cross(xa, xb)"
   ]
  },
  {
   "cell_type": "code",
   "execution_count": null,
   "metadata": {},
   "outputs": [],
   "source": [
    "n"
   ]
  },
  {
   "cell_type": "code",
   "execution_count": null,
   "metadata": {},
   "outputs": [],
   "source": []
  },
  {
   "cell_type": "markdown",
   "metadata": {
    "colab_type": "text",
    "id": "c01_dqBYmUWF"
   },
   "source": [
    "###3. Problem (page 59 David J)\n",
    "\n",
    "The position of a ball at time t dropped with zero initial velocity from a height $h_0$ is given by \n",
    "> $y =  h_0 - \\frac{1}{2} g t^{2}$ \n",
    "where g = 9.8 $\\rm m/s^2$. Suppose $h_0 = 10$. Find the sequence of times when the ball passes each half meter assuming the ball is dropped at t = 0. \n",
    "\n",
    "> Hint Create a Numpy array for y that goes from 10 to 0 increments of -0.5 using then arrange function. Solving the above equation for t, show that\n",
    "\n",
    "> $t = \\sqrt{\\frac{2 (h_0 -y)}{g}}$. \n",
    "\n",
    "Using this equation and the array you created, find the sequence of times when the ball passes each half meter. Save code as python script. It should yield the following resultsfor the y and t arrays. \n",
    "\n",
    "Once you have created the arrays y and t , type` list(zip(t, y))` at \n",
    "the IPython prompt. Explain the result.\n"
   ]
  },
  {
   "cell_type": "code",
   "execution_count": null,
   "metadata": {
    "colab": {
     "base_uri": "https://localhost:8080/",
     "height": 109
    },
    "colab_type": "code",
    "id": "45R1JW52b1Ol",
    "outputId": "72493d8a-05db-4a8b-e782-34619f924f39"
   },
   "outputs": [],
   "source": [
    "import numpy as np \n",
    "import matplotlib.pyplot as plt \n",
    "import pandas as pd \n",
    "#########################\n",
    "#t_0 = 0 \n",
    "\n",
    "g = 9.8 #g\n",
    "h_0 = 10 #height  \n",
    "\n",
    "#we know that \n",
    "#y = h_0 - 0.5 * g * t**2\n",
    "# NOw time is given by ;\n",
    "y = np.arange(10, 0, -0.5)\n",
    "w = h_0-y\n",
    "t = np.sqrt(2*w /g)\n",
    "print(\"The values of time \\n:\", t)\n"
   ]
  },
  {
   "cell_type": "code",
   "execution_count": null,
   "metadata": {
    "colab": {
     "base_uri": "https://localhost:8080/",
     "height": 384
    },
    "colab_type": "code",
    "id": "ixN27KcxqJ9R",
    "outputId": "403ea267-0887-4aef-e03d-549493240540"
   },
   "outputs": [],
   "source": [
    "list(zip(t, y))"
   ]
  },
  {
   "cell_type": "code",
   "execution_count": null,
   "metadata": {
    "colab": {
     "base_uri": "https://localhost:8080/",
     "height": 403
    },
    "colab_type": "code",
    "id": "7rRGebt3DLk8",
    "outputId": "39c3cb49-f4a3-4137-d13e-8c2dbc01248c"
   },
   "outputs": [],
   "source": [
    "data = pd.read_csv('___.txt', header = None) #write file name \n",
    "print (data)"
   ]
  },
  {
   "cell_type": "code",
   "execution_count": null,
   "metadata": {
    "colab": {},
    "colab_type": "code",
    "id": "iJWrYpN8HRN5"
   },
   "outputs": [],
   "source": [
    "#plot between t vs g "
   ]
  },
  {
   "cell_type": "code",
   "execution_count": null,
   "metadata": {
    "colab": {},
    "colab_type": "code",
    "id": "SD3AsdXlOMtx"
   },
   "outputs": [],
   "source": []
  }
 ],
 "metadata": {
  "accelerator": "GPU",
  "colab": {
   "name": "workshop_day2_matrix.ipynb",
   "provenance": []
  },
  "kernelspec": {
   "display_name": "Python 3",
   "language": "python",
   "name": "python3"
  },
  "language_info": {
   "codemirror_mode": {
    "name": "ipython",
    "version": 3
   },
   "file_extension": ".py",
   "mimetype": "text/x-python",
   "name": "python",
   "nbconvert_exporter": "python",
   "pygments_lexer": "ipython3",
   "version": "3.9.5"
  }
 },
 "nbformat": 4,
 "nbformat_minor": 4
}
